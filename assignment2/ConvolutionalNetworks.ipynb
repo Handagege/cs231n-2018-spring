{
 "cells": [
  {
   "cell_type": "markdown",
   "metadata": {},
   "source": [
    "# Convolutional Networks\n",
    "So far we have worked with deep fully-connected networks, using them to explore different optimization strategies and network architectures. Fully-connected networks are a good testbed for experimentation because they are very computationally efficient, but in practice all state-of-the-art results use convolutional networks instead.\n",
    "\n",
    "First you will implement several layer types that are used in convolutional networks. You will then use these layers to train a convolutional network on the CIFAR-10 dataset."
   ]
  },
  {
   "cell_type": "code",
   "execution_count": 1,
   "metadata": {},
   "outputs": [
    {
     "name": "stderr",
     "output_type": "stream",
     "text": [
      "/usr/lib/python3.5/importlib/_bootstrap.py:222: RuntimeWarning: numpy.dtype size changed, may indicate binary incompatibility. Expected 96, got 88\n",
      "  return f(*args, **kwds)\n",
      "/usr/lib/python3.5/importlib/_bootstrap.py:222: RuntimeWarning: numpy.dtype size changed, may indicate binary incompatibility. Expected 96, got 88\n",
      "  return f(*args, **kwds)\n"
     ]
    }
   ],
   "source": [
    "# As usual, a bit of setup\n",
    "\n",
    "import numpy as np\n",
    "import matplotlib.pyplot as plt\n",
    "from cs231n.classifiers.cnn import *\n",
    "from cs231n.classifiers.convNet2 import *\n",
    "from cs231n.data_utils import get_CIFAR10_data\n",
    "from cs231n.gradient_check import eval_numerical_gradient_array, eval_numerical_gradient\n",
    "from cs231n.layers import *\n",
    "from cs231n.fast_layers import *\n",
    "from cs231n.solver import Solver\n",
    "\n",
    "%matplotlib inline\n",
    "plt.rcParams['figure.figsize'] = (10.0, 8.0) # set default size of plots\n",
    "plt.rcParams['image.interpolation'] = 'nearest'\n",
    "plt.rcParams['image.cmap'] = 'gray'\n",
    "\n",
    "# for auto-reloading external modules\n",
    "# see http://stackoverflow.com/questions/1907993/autoreload-of-modules-in-ipython\n",
    "%load_ext autoreload\n",
    "%autoreload 2\n",
    "\n",
    "def rel_error(x, y):\n",
    "  \"\"\" returns relative error \"\"\"\n",
    "  return np.max(np.abs(x - y) / (np.maximum(1e-8, np.abs(x) + np.abs(y))))"
   ]
  },
  {
   "cell_type": "code",
   "execution_count": 2,
   "metadata": {},
   "outputs": [
    {
     "name": "stdout",
     "output_type": "stream",
     "text": [
      "X_val:  (1000, 3, 32, 32)\n",
      "y_train:  (49000,)\n",
      "X_train:  (49000, 3, 32, 32)\n",
      "y_val:  (1000,)\n",
      "y_test:  (1000,)\n",
      "X_test:  (1000, 3, 32, 32)\n"
     ]
    }
   ],
   "source": [
    "# Load the (preprocessed) CIFAR10 data.\n",
    "\n",
    "data = get_CIFAR10_data()\n",
    "for k, v in data.items():\n",
    "  print ('%s: ' % k, v.shape)"
   ]
  },
  {
   "cell_type": "markdown",
   "metadata": {},
   "source": [
    "# Convolution: Naive forward pass\n",
    "The core of a convolutional network is the convolution operation. In the file `cs231n/layers.py`, implement the forward pass for the convolution layer in the function `conv_forward_naive`. \n",
    "\n",
    "You don't have to worry too much about efficiency at this point; just write the code in whatever way you find most clear.\n",
    "\n",
    "You can test your implementation by running the following:"
   ]
  },
  {
   "cell_type": "code",
   "execution_count": 3,
   "metadata": {},
   "outputs": [
    {
     "name": "stdout",
     "output_type": "stream",
     "text": [
      "Testing conv_forward_naive\n",
      "difference:  2.2121476417505994e-08\n"
     ]
    }
   ],
   "source": [
    "x_shape = (2, 3, 4, 4)\n",
    "w_shape = (3, 3, 4, 4)\n",
    "x = np.linspace(-0.1, 0.5, num=np.prod(x_shape)).reshape(x_shape)\n",
    "w = np.linspace(-0.2, 0.3, num=np.prod(w_shape)).reshape(w_shape)\n",
    "b = np.linspace(-0.1, 0.2, num=3)\n",
    "\n",
    "conv_param = {'stride': 2, 'pad': 1}\n",
    "out, _ = conv_forward_naive(x, w, b, conv_param)\n",
    "correct_out = np.array([[[[[-0.08759809, -0.10987781],\n",
    "                           [-0.18387192, -0.2109216 ]],\n",
    "                          [[ 0.21027089,  0.21661097],\n",
    "                           [ 0.22847626,  0.23004637]],\n",
    "                          [[ 0.50813986,  0.54309974],\n",
    "                           [ 0.64082444,  0.67101435]]],\n",
    "                         [[[-0.98053589, -1.03143541],\n",
    "                           [-1.19128892, -1.24695841]],\n",
    "                          [[ 0.69108355,  0.66880383],\n",
    "                           [ 0.59480972,  0.56776003]],\n",
    "                          [[ 2.36270298,  2.36904306],\n",
    "                           [ 2.38090835,  2.38247847]]]]])\n",
    "\n",
    "# Compare your output to ours; difference should be around 1e-8\n",
    "print ('Testing conv_forward_naive')\n",
    "print ('difference: ', rel_error(out, correct_out))"
   ]
  },
  {
   "cell_type": "markdown",
   "metadata": {},
   "source": [
    "# Aside: Image processing via convolutions\n",
    "\n",
    "As fun way to both check your implementation and gain a better understanding of the type of operation that convolutional layers can perform, we will set up an input containing two images and manually set up filters that perform common image processing operations (grayscale conversion and edge detection). The convolution forward pass will apply these operations to each of the input images. We can then visualize the results as a sanity check."
   ]
  },
  {
   "cell_type": "code",
   "execution_count": 4,
   "metadata": {},
   "outputs": [
    {
     "name": "stderr",
     "output_type": "stream",
     "text": [
      "/home/xin-w/.local/lib/python3.5/site-packages/ipykernel_launcher.py:3: DeprecationWarning: `imread` is deprecated!\n",
      "`imread` is deprecated in SciPy 1.0.0, and will be removed in 1.2.0.\n",
      "Use ``imageio.imread`` instead.\n",
      "  This is separate from the ipykernel package so we can avoid doing imports until\n",
      "/home/xin-w/.local/lib/python3.5/site-packages/ipykernel_launcher.py:10: DeprecationWarning: `imresize` is deprecated!\n",
      "`imresize` is deprecated in SciPy 1.0.0, and will be removed in 1.2.0.\n",
      "Use ``skimage.transform.resize`` instead.\n",
      "  # Remove the CWD from sys.path while we load stuff.\n",
      "/home/xin-w/.local/lib/python3.5/site-packages/ipykernel_launcher.py:11: DeprecationWarning: `imresize` is deprecated!\n",
      "`imresize` is deprecated in SciPy 1.0.0, and will be removed in 1.2.0.\n",
      "Use ``skimage.transform.resize`` instead.\n",
      "  # This is added back by InteractiveShellApp.init_path()\n"
     ]
    },
    {
     "data": {
      "image/png": "[encoded data removed]",
      "text/plain": [
       "<Figure size 432x288 with 6 Axes>"
      ]
     },
     "metadata": {},
     "output_type": "display_data"
    }
   ],
   "source": [
    "from scipy.misc import imread, imresize\n",
    "\n",
    "kitten, puppy = imread('kitten.jpg'), imread('puppy.jpg')\n",
    "# kitten is wide, and puppy is already square\n",
    "d = kitten.shape[1] - kitten.shape[0]\n",
    "kitten_cropped = kitten[:, int(d/2):int(-d/2), :]\n",
    "\n",
    "img_size = 200   # Make this smaller if it runs too slow\n",
    "x = np.zeros((2, 3, img_size, img_size))\n",
    "x[0, :, :, :] = imresize(puppy, (img_size, img_size)).transpose((2, 0, 1))\n",
    "x[1, :, :, :] = imresize(kitten_cropped, (img_size, img_size)).transpose((2, 0, 1))\n",
    "\n",
    "# Set up a convolutional weights holding 2 filters, each 3x3\n",
    "w = np.zeros((2, 3, 3, 3))\n",
    "\n",
    "# The first filter converts the image to grayscale.\n",
    "# Set up the red, green, and blue channels of the filter.\n",
    "w[0, 0, :, :] = [[0, 0, 0], [0, 0.3, 0], [0, 0, 0]]\n",
    "w[0, 1, :, :] = [[0, 0, 0], [0, 0.6, 0], [0, 0, 0]]\n",
    "w[0, 2, :, :] = [[0, 0, 0], [0, 0.1, 0], [0, 0, 0]]\n",
    "\n",
    "# Second filter detects horizontal edges in the blue channel.\n",
    "w[1, 2, :, :] = [[1, 2, 1], [0, 0, 0], [-1, -2, -1]]\n",
    "\n",
    "# Vector of biases. We don't need any bias for the grayscale\n",
    "# filter, but for the edge detection filter we want to add 128\n",
    "# to each output so that nothing is negative.\n",
    "b = np.array([0, 128])\n",
    "\n",
    "# Compute the result of convolving each input in x with each filter in w,\n",
    "# offsetting by b, and storing the results in out.\n",
    "out, _ = conv_forward_naive(x, w, b, {'stride': 1, 'pad': 1})\n",
    "\n",
    "def imshow_noax(img, normalize=True):\n",
    "    \"\"\" Tiny helper to show images as uint8 and remove axis labels \"\"\"\n",
    "    if normalize:\n",
    "        img_max, img_min = np.max(img), np.min(img)\n",
    "        img = 255.0 * (img - img_min) / (img_max - img_min)\n",
    "    plt.imshow(img.astype('uint8'))\n",
    "    plt.gca().axis('off')\n",
    "\n",
    "# Show the original images and the results of the conv operation\n",
    "plt.subplot(2, 3, 1)\n",
    "imshow_noax(puppy, normalize=False)\n",
    "plt.title('Original image')\n",
    "plt.subplot(2, 3, 2)\n",
    "imshow_noax(out[0, 0])\n",
    "plt.title('Grayscale')\n",
    "plt.subplot(2, 3, 3)\n",
    "imshow_noax(out[0, 1])\n",
    "plt.title('Edges')\n",
    "plt.subplot(2, 3, 4)\n",
    "imshow_noax(kitten_cropped, normalize=False)\n",
    "plt.subplot(2, 3, 5)\n",
    "imshow_noax(out[1, 0])\n",
    "plt.subplot(2, 3, 6)\n",
    "imshow_noax(out[1, 1])\n",
    "plt.show()"
   ]
  },
  {
   "cell_type": "markdown",
   "metadata": {},
   "source": [
    "# Convolution: Naive backward pass\n",
    "Implement the backward pass for the convolution operation in the function `conv_backward_naive` in the file `cs231n/layers.py`. Again, you don't need to worry too much about computational efficiency.\n",
    "\n",
    "When you are done, run the following to check your backward pass with a numeric gradient check."
   ]
  },
  {
   "cell_type": "code",
   "execution_count": 5,
   "metadata": {},
   "outputs": [
    {
     "name": "stdout",
     "output_type": "stream",
     "text": [
      "Testing conv_backward_naive function\n",
      "dx error:  5.002437022799193e-09\n",
      "dw error:  2.0952246146857973e-10\n",
      "db error:  2.6148572043111424e-11\n"
     ]
    }
   ],
   "source": [
    "x = np.random.randn(4, 3, 5, 5)\n",
    "w = np.random.randn(2, 3, 3, 3)\n",
    "b = np.random.randn(2,)\n",
    "dout = np.random.randn(4, 2, 5, 5)\n",
    "conv_param = {'stride': 1, 'pad': 1}\n",
    "\n",
    "dx_num = eval_numerical_gradient_array(lambda x: conv_forward_naive(x, w, b, conv_param)[0], x, dout)\n",
    "dw_num = eval_numerical_gradient_array(lambda w: conv_forward_naive(x, w, b, conv_param)[0], w, dout)\n",
    "db_num = eval_numerical_gradient_array(lambda b: conv_forward_naive(x, w, b, conv_param)[0], b, dout)\n",
    "\n",
    "out, cache = conv_forward_naive(x, w, b, conv_param)\n",
    "\n",
    "dx, dw, db = conv_backward_naive(dout, cache)\n",
    "\n",
    "# Your errors should be around 1e-9'\n",
    "print ('Testing conv_backward_naive function')\n",
    "print ('dx error: ', rel_error(dx, dx_num))\n",
    "print ('dw error: ', rel_error(dw, dw_num))\n",
    "print ('db error: ', rel_error(db, db_num))"
   ]
  },
  {
   "cell_type": "markdown",
   "metadata": {},
   "source": [
    "# Max pooling: Naive forward\n",
    "Implement the forward pass for the max-pooling operation in the function `max_pool_forward_naive` in the file `cs231n/layers.py`. Again, don't worry too much about computational efficiency.\n",
    "\n",
    "Check your implementation by running the following:"
   ]
  },
  {
   "cell_type": "code",
   "execution_count": 6,
   "metadata": {},
   "outputs": [
    {
     "name": "stdout",
     "output_type": "stream",
     "text": [
      "Testing max_pool_forward_naive function:\n",
      "difference:  4.1666665157267834e-08\n"
     ]
    }
   ],
   "source": [
    "x_shape = (2, 3, 4, 4)\n",
    "x = np.linspace(-0.3, 0.4, num=np.prod(x_shape)).reshape(x_shape)\n",
    "pool_param = {'pool_width': 2, 'pool_height': 2, 'stride': 2}\n",
    "\n",
    "out, _ = max_pool_forward_naive(x, pool_param)\n",
    "\n",
    "correct_out = np.array([[[[-0.26315789, -0.24842105],\n",
    "                          [-0.20421053, -0.18947368]],\n",
    "                         [[-0.14526316, -0.13052632],\n",
    "                          [-0.08631579, -0.07157895]],\n",
    "                         [[-0.02736842, -0.01263158],\n",
    "                          [ 0.03157895,  0.04631579]]],\n",
    "                        [[[ 0.09052632,  0.10526316],\n",
    "                          [ 0.14947368,  0.16421053]],\n",
    "                         [[ 0.20842105,  0.22315789],\n",
    "                          [ 0.26736842,  0.28210526]],\n",
    "                         [[ 0.32631579,  0.34105263],\n",
    "                          [ 0.38526316,  0.4       ]]]])\n",
    "\n",
    "# Compare your output with ours. Difference should be around 1e-8.\n",
    "print ('Testing max_pool_forward_naive function:')\n",
    "print ('difference: ', rel_error(out, correct_out))"
   ]
  },
  {
   "cell_type": "markdown",
   "metadata": {},
   "source": [
    "# Max pooling: Naive backward\n",
    "Implement the backward pass for the max-pooling operation in the function `max_pool_backward_naive` in the file `cs231n/layers.py`. You don't need to worry about computational efficiency.\n",
    "\n",
    "Check your implementation with numeric gradient checking by running the following:"
   ]
  },
  {
   "cell_type": "code",
   "execution_count": 7,
   "metadata": {},
   "outputs": [
    {
     "name": "stdout",
     "output_type": "stream",
     "text": [
      "Testing max_pool_backward_naive function:\n",
      "dx error:  3.2756273706489605e-12\n"
     ]
    }
   ],
   "source": [
    "x = np.random.randn(3, 2, 8, 8)\n",
    "dout = np.random.randn(3, 2, 4, 4)\n",
    "pool_param = {'pool_height': 2, 'pool_width': 2, 'stride': 2}\n",
    "\n",
    "dx_num = eval_numerical_gradient_array(lambda x: max_pool_forward_naive(x, pool_param)[0], x, dout)\n",
    "\n",
    "out, cache = max_pool_forward_naive(x, pool_param)\n",
    "dx = max_pool_backward_naive(dout, cache)\n",
    "\n",
    "# Your error should be around 1e-12\n",
    "print ('Testing max_pool_backward_naive function:')\n",
    "print ('dx error: ', rel_error(dx, dx_num))"
   ]
  },
  {
   "cell_type": "markdown",
   "metadata": {},
   "source": [
    "# Fast layers\n",
    "Making convolution and pooling layers fast can be challenging. To spare you the pain, we've provided fast implementations of the forward and backward passes for convolution and pooling layers in the file `cs231n/fast_layers.py`.\n",
    "\n",
    "The fast convolution implementation depends on a Cython extension; to compile it you need to run the following from the `cs231n` directory:\n",
    "\n",
    "```bash\n",
    "python setup.py build_ext --inplace\n",
    "```\n",
    "\n",
    "The API for the fast versions of the convolution and pooling layers is exactly the same as the naive versions that you implemented above: the forward pass receives data, weights, and parameters and produces outputs and a cache object; the backward pass recieves upstream derivatives and the cache object and produces gradients with respect to the data and weights.\n",
    "\n",
    "**NOTE:** The fast implementation for pooling will only perform optimally if the pooling regions are non-overlapping and tile the input. If these conditions are not met then the fast pooling implementation will not be much faster than the naive implementation.\n",
    "\n",
    "You can compare the performance of the naive and fast versions of these layers by running the following:"
   ]
  },
  {
   "cell_type": "code",
   "execution_count": 8,
   "metadata": {},
   "outputs": [
    {
     "name": "stdout",
     "output_type": "stream",
     "text": [
      "Testing conv_forward_fast:\n",
      "Naive: 0.158003s\n",
      "Fast: 0.013156s\n",
      "Speedup: 12.009605x\n",
      "Difference:  6.108727026483042e-11\n",
      "\n",
      "Testing conv_backward_fast:\n",
      "Naive: 8.176054s\n",
      "Fast: 0.006999s\n",
      "Speedup: 1168.251516x\n",
      "dx difference:  1.0\n",
      "dw difference:  7.138571595255193e-13\n",
      "db difference:  0.0\n"
     ]
    }
   ],
   "source": [
    "from cs231n.fast_layers import conv_forward_fast, conv_backward_fast\n",
    "from time import time\n",
    "\n",
    "x = np.random.randn(100, 3, 31, 31)\n",
    "w = np.random.randn(25, 3, 3, 3)\n",
    "b = np.random.randn(25,)\n",
    "dout = np.random.randn(100, 25, 16, 16)\n",
    "conv_param = {'stride': 2, 'pad': 1}\n",
    "\n",
    "t0 = time()\n",
    "out_naive, cache_naive = conv_forward_naive(x, w, b, conv_param)\n",
    "t1 = time()\n",
    "out_fast, cache_fast = conv_forward_fast(x, w, b, conv_param)\n",
    "t2 = time()\n",
    "\n",
    "print ('Testing conv_forward_fast:')\n",
    "print ('Naive: %fs' % (t1 - t0))\n",
    "print ('Fast: %fs' % (t2 - t1))\n",
    "print ('Speedup: %fx' % ((t1 - t0) / (t2 - t1)))\n",
    "print ('Difference: ', rel_error(out_naive, out_fast))\n",
    "\n",
    "t0 = time()\n",
    "dx_naive, dw_naive, db_naive = conv_backward_naive(dout, cache_naive)\n",
    "t1 = time()\n",
    "dx_fast, dw_fast, db_fast = conv_backward_fast(dout, cache_fast)\n",
    "t2 = time()\n",
    "\n",
    "print ('\\nTesting conv_backward_fast:')\n",
    "print ('Naive: %fs' % (t1 - t0))\n",
    "print ('Fast: %fs' % (t2 - t1))\n",
    "print ('Speedup: %fx' % ((t1 - t0) / (t2 - t1)))\n",
    "print ('dx difference: ', rel_error(dx_naive, dx_fast))\n",
    "print ('dw difference: ', rel_error(dw_naive, dw_fast))\n",
    "print ('db difference: ', rel_error(db_naive, db_fast))"
   ]
  },
  {
   "cell_type": "code",
   "execution_count": 9,
   "metadata": {},
   "outputs": [
    {
     "name": "stdout",
     "output_type": "stream",
     "text": [
      "Testing pool_forward_fast:\n",
      "Naive: 0.007521s\n",
      "fast: 0.001839s\n",
      "speedup: 4.088658x\n",
      "difference:  0.0\n",
      "\n",
      "Testing pool_backward_fast:\n",
      "Naive: 0.890532s\n",
      "speedup: 95.253181x\n",
      "dx difference:  0.0\n"
     ]
    }
   ],
   "source": [
    "from cs231n.fast_layers import max_pool_forward_fast, max_pool_backward_fast\n",
    "\n",
    "x = np.random.randn(100, 3, 32, 32)\n",
    "dout = np.random.randn(100, 3, 16, 16)\n",
    "pool_param = {'pool_height': 2, 'pool_width': 2, 'stride': 2}\n",
    "\n",
    "t0 = time()\n",
    "out_naive, cache_naive = max_pool_forward_naive(x, pool_param)\n",
    "t1 = time()\n",
    "out_fast, cache_fast = max_pool_forward_fast(x, pool_param)\n",
    "t2 = time()\n",
    "\n",
    "print ('Testing pool_forward_fast:')\n",
    "print ('Naive: %fs' % (t1 - t0))\n",
    "print ('fast: %fs' % (t2 - t1))\n",
    "print ('speedup: %fx' % ((t1 - t0) / (t2 - t1)))\n",
    "print ('difference: ', rel_error(out_naive, out_fast))\n",
    "\n",
    "t0 = time()\n",
    "dx_naive = max_pool_backward_naive(dout, cache_naive)\n",
    "t1 = time()\n",
    "dx_fast = max_pool_backward_fast(dout, cache_fast)\n",
    "t2 = time()\n",
    "\n",
    "print ('\\nTesting pool_backward_fast:')\n",
    "print ('Naive: %fs' % (t1 - t0))\n",
    "print ('speedup: %fx' % ((t1 - t0) / (t2 - t1)))\n",
    "print ('dx difference: ', rel_error(dx_naive, dx_fast))"
   ]
  },
  {
   "cell_type": "markdown",
   "metadata": {},
   "source": [
    "# Convolutional \"sandwich\" layers\n",
    "Previously we introduced the concept of \"sandwich\" layers that combine multiple operations into commonly used patterns. In the file `cs231n/layer_utils.py` you will find sandwich layers that implement a few commonly used patterns for convolutional networks."
   ]
  },
  {
   "cell_type": "code",
   "execution_count": 10,
   "metadata": {},
   "outputs": [
    {
     "name": "stdout",
     "output_type": "stream",
     "text": [
      "Testing conv_relu_pool\n",
      "dx error:  1.042200185505618e-08\n",
      "dw error:  4.727775190169587e-10\n",
      "db error:  3.785139151281658e-11\n"
     ]
    }
   ],
   "source": [
    "from cs231n.layer_utils import conv_relu_pool_forward, conv_relu_pool_backward\n",
    "\n",
    "x = np.random.randn(2, 3, 16, 16)\n",
    "w = np.random.randn(3, 3, 3, 3)\n",
    "b = np.random.randn(3,)\n",
    "dout = np.random.randn(2, 3, 8, 8)\n",
    "conv_param = {'stride': 1, 'pad': 1}\n",
    "pool_param = {'pool_height': 2, 'pool_width': 2, 'stride': 2}\n",
    "\n",
    "out, cache = conv_relu_pool_forward(x, w, b, conv_param, pool_param)\n",
    "dx, dw, db = conv_relu_pool_backward(dout, cache)\n",
    "\n",
    "dx_num = eval_numerical_gradient_array(lambda x: conv_relu_pool_forward(x, w, b, conv_param, pool_param)[0], x, dout)\n",
    "dw_num = eval_numerical_gradient_array(lambda w: conv_relu_pool_forward(x, w, b, conv_param, pool_param)[0], w, dout)\n",
    "db_num = eval_numerical_gradient_array(lambda b: conv_relu_pool_forward(x, w, b, conv_param, pool_param)[0], b, dout)\n",
    "\n",
    "print ('Testing conv_relu_pool')\n",
    "print ('dx error: ', rel_error(dx_num, dx))\n",
    "print ('dw error: ', rel_error(dw_num, dw))\n",
    "print ('db error: ', rel_error(db_num, db))"
   ]
  },
  {
   "cell_type": "code",
   "execution_count": 11,
   "metadata": {},
   "outputs": [
    {
     "name": "stdout",
     "output_type": "stream",
     "text": [
      "Testing conv_relu:\n",
      "dx error:  7.00537389302565e-09\n",
      "dw error:  9.295774966400533e-09\n",
      "db error:  1.0280548693293023e-11\n"
     ]
    }
   ],
   "source": [
    "from cs231n.layer_utils import conv_relu_forward, conv_relu_backward\n",
    "\n",
    "x = np.random.randn(2, 3, 8, 8)\n",
    "w = np.random.randn(3, 3, 3, 3)\n",
    "b = np.random.randn(3,)\n",
    "dout = np.random.randn(2, 3, 8, 8)\n",
    "conv_param = {'stride': 1, 'pad': 1}\n",
    "\n",
    "out, cache = conv_relu_forward(x, w, b, conv_param)\n",
    "dx, dw, db = conv_relu_backward(dout, cache)\n",
    "\n",
    "dx_num = eval_numerical_gradient_array(lambda x: conv_relu_forward(x, w, b, conv_param)[0], x, dout)\n",
    "dw_num = eval_numerical_gradient_array(lambda w: conv_relu_forward(x, w, b, conv_param)[0], w, dout)\n",
    "db_num = eval_numerical_gradient_array(lambda b: conv_relu_forward(x, w, b, conv_param)[0], b, dout)\n",
    "\n",
    "print ('Testing conv_relu:')\n",
    "print ('dx error: ', rel_error(dx_num, dx))\n",
    "print ('dw error: ', rel_error(dw_num, dw))\n",
    "print ('db error: ', rel_error(db_num, db))"
   ]
  },
  {
   "cell_type": "markdown",
   "metadata": {},
   "source": [
    "# Three-layer ConvNet\n",
    "Now that you have implemented all the necessary layers, we can put them together into a simple convolutional network.\n",
    "\n",
    "Open the file `cs231n/cnn.py` and complete the implementation of the `ThreeLayerConvNet` class. Run the following cells to help you debug:"
   ]
  },
  {
   "cell_type": "markdown",
   "metadata": {},
   "source": [
    "## Sanity check loss\n",
    "After you build a new network, one of the first things you should do is sanity check the loss. When we use the softmax loss, we expect the loss for random weights (and no regularization) to be about `log(C)` for `C` classes. When we add regularization this should go up."
   ]
  },
  {
   "cell_type": "code",
   "execution_count": 12,
   "metadata": {},
   "outputs": [
    {
     "name": "stdout",
     "output_type": "stream",
     "text": [
      "Initial loss (no regularization):  2.3025847983149297\n",
      "Initial loss (with regularization):  2.508557410219074\n"
     ]
    }
   ],
   "source": [
    "model = ThreeLayerConvNet()\n",
    "\n",
    "N = 50\n",
    "X = np.random.randn(N, 3, 32, 32)\n",
    "y = np.random.randint(10, size=N)\n",
    "\n",
    "loss, grads = model.loss(X, y)\n",
    "print ('Initial loss (no regularization): ', loss)\n",
    "\n",
    "model.reg = 0.5\n",
    "loss, grads = model.loss(X, y)\n",
    "print ('Initial loss (with regularization): ', loss)"
   ]
  },
  {
   "cell_type": "markdown",
   "metadata": {},
   "source": [
    "## Gradient check\n",
    "After the loss looks reasonable, use numeric gradient checking to make sure that your backward pass is correct. When you use numeric gradient checking you should use a small amount of artifical data and a small number of neurons at each layer."
   ]
  },
  {
   "cell_type": "code",
   "execution_count": 13,
   "metadata": {},
   "outputs": [
    {
     "name": "stdout",
     "output_type": "stream",
     "text": [
      "W1 max relative error: 2.912958e-04\n",
      "W2 max relative error: 3.176515e-03\n",
      "W3 max relative error: 1.686898e-05\n",
      "b1 max relative error: 2.526769e-05\n",
      "b2 max relative error: 2.104223e-06\n",
      "b3 max relative error: 1.150544e-09\n"
     ]
    }
   ],
   "source": [
    "num_inputs = 2\n",
    "input_dim = (3, 16, 16)\n",
    "reg = 0.0\n",
    "num_classes = 10\n",
    "X = np.random.randn(num_inputs, *input_dim)\n",
    "y = np.random.randint(num_classes, size=num_inputs)\n",
    "\n",
    "model = ThreeLayerConvNet(num_filters=3, filter_size=3,\n",
    "                          input_dim=input_dim, hidden_dim=7,\n",
    "                          dtype=np.float64)\n",
    "loss, grads = model.loss(X, y)\n",
    "for param_name in sorted(grads):\n",
    "    f = lambda _: model.loss(X, y)[0]\n",
    "    param_grad_num = eval_numerical_gradient(f, model.params[param_name], verbose=False, h=1e-6)\n",
    "    e = rel_error(param_grad_num, grads[param_name])\n",
    "    print ('%s max relative error: %e' % (param_name, rel_error(param_grad_num, grads[param_name])))"
   ]
  },
  {
   "cell_type": "markdown",
   "metadata": {},
   "source": [
    "## Overfit small data\n",
    "A nice trick is to train your model with just a few training samples. You should be able to overfit small datasets, which will result in very high training accuracy and comparatively low validation accuracy."
   ]
  },
  {
   "cell_type": "code",
   "execution_count": 14,
   "metadata": {},
   "outputs": [
    {
     "name": "stdout",
     "output_type": "stream",
     "text": [
      "(Iteration 1 / 50) loss: 2.615990\n",
      "(Epoch 0 / 10) train acc: 0.130000; val_acc: 0.105000\n",
      "(Epoch 1 / 10) train acc: 0.200000; val_acc: 0.087000\n",
      "(Iteration 6 / 50) loss: 2.199001\n",
      "(Epoch 2 / 10) train acc: 0.300000; val_acc: 0.144000\n",
      "(Iteration 11 / 50) loss: 1.789688\n",
      "(Epoch 3 / 10) train acc: 0.380000; val_acc: 0.159000\n",
      "(Iteration 16 / 50) loss: 2.077023\n",
      "(Epoch 4 / 10) train acc: 0.410000; val_acc: 0.154000\n",
      "(Iteration 21 / 50) loss: 1.570801\n",
      "(Epoch 5 / 10) train acc: 0.470000; val_acc: 0.179000\n",
      "(Iteration 26 / 50) loss: 1.696023\n",
      "(Epoch 6 / 10) train acc: 0.590000; val_acc: 0.218000\n",
      "(Iteration 31 / 50) loss: 1.175346\n",
      "(Epoch 7 / 10) train acc: 0.690000; val_acc: 0.179000\n",
      "(Iteration 36 / 50) loss: 0.977809\n",
      "(Epoch 8 / 10) train acc: 0.750000; val_acc: 0.202000\n",
      "(Iteration 41 / 50) loss: 0.651758\n",
      "(Epoch 9 / 10) train acc: 0.800000; val_acc: 0.196000\n",
      "(Iteration 46 / 50) loss: 0.512401\n",
      "(Epoch 10 / 10) train acc: 0.920000; val_acc: 0.194000\n"
     ]
    }
   ],
   "source": [
    "num_train = 100\n",
    "small_data = {\n",
    "  'X_train': data['X_train'][:num_train],\n",
    "  'y_train': data['y_train'][:num_train],\n",
    "  'X_val': data['X_val'],\n",
    "  'y_val': data['y_val'],\n",
    "}\n",
    "\n",
    "model = ThreeLayerConvNet(weight_scale=1e-2)\n",
    "\n",
    "solver = Solver(model, small_data,\n",
    "                num_epochs=10, batch_size=20,\n",
    "                update_rule='adam',\n",
    "                optim_config={\n",
    "                  'learning_rate': 1e-3,\n",
    "                },\n",
    "                verbose=True, print_every=5)\n",
    "solver.train()"
   ]
  },
  {
   "cell_type": "markdown",
   "metadata": {},
   "source": [
    "Plotting the loss, training accuracy, and validation accuracy should show clear overfitting:"
   ]
  },
  {
   "cell_type": "code",
   "execution_count": 15,
   "metadata": {},
   "outputs": [
    {
     "data": {
      "image/png": "[encoded data removed]",
      "text/plain": [
       "<Figure size 432x288 with 2 Axes>"
      ]
     },
     "metadata": {},
     "output_type": "display_data"
    }
   ],
   "source": [
    "plt.subplot(2, 1, 1)\n",
    "plt.plot(solver.loss_history, 'o')\n",
    "plt.xlabel('iteration')\n",
    "plt.ylabel('loss')\n",
    "\n",
    "plt.subplot(2, 1, 2)\n",
    "plt.plot(solver.train_acc_history, '-o')\n",
    "plt.plot(solver.val_acc_history, '-o')\n",
    "plt.legend(['train', 'val'], loc='upper left')\n",
    "plt.xlabel('epoch')\n",
    "plt.ylabel('accuracy')\n",
    "plt.show()"
   ]
  },
  {
   "cell_type": "markdown",
   "metadata": {},
   "source": [
    "## Train the net\n",
    "By training the three-layer convolutional network for one epoch, you should achieve greater than 40% accuracy on the training set:"
   ]
  },
  {
   "cell_type": "code",
   "execution_count": 16,
   "metadata": {
    "scrolled": false
   },
   "outputs": [
    {
     "name": "stdout",
     "output_type": "stream",
     "text": [
      "(Iteration 1 / 980) loss: 2.304474\n",
      "(Epoch 0 / 1) train acc: 0.117000; val_acc: 0.105000\n",
      "(Iteration 21 / 980) loss: 2.166481\n",
      "(Iteration 41 / 980) loss: 2.000014\n",
      "(Iteration 61 / 980) loss: 1.848058\n",
      "(Iteration 81 / 980) loss: 1.925307\n",
      "(Iteration 101 / 980) loss: 1.976011\n",
      "(Iteration 121 / 980) loss: 1.910090\n",
      "(Iteration 141 / 980) loss: 2.027326\n",
      "(Iteration 161 / 980) loss: 1.972063\n",
      "(Iteration 181 / 980) loss: 1.676411\n",
      "(Iteration 201 / 980) loss: 1.630807\n",
      "(Iteration 221 / 980) loss: 1.887071\n",
      "(Iteration 241 / 980) loss: 1.871213\n",
      "(Iteration 261 / 980) loss: 1.833143\n",
      "(Iteration 281 / 980) loss: 1.656174\n",
      "(Iteration 301 / 980) loss: 1.690593\n",
      "(Iteration 321 / 980) loss: 1.778113\n",
      "(Iteration 341 / 980) loss: 1.776743\n",
      "(Iteration 361 / 980) loss: 1.837213\n",
      "(Iteration 381 / 980) loss: 1.775385\n",
      "(Iteration 401 / 980) loss: 1.677452\n",
      "(Iteration 421 / 980) loss: 1.700174\n",
      "(Iteration 441 / 980) loss: 1.898407\n",
      "(Iteration 461 / 980) loss: 1.586608\n",
      "(Iteration 481 / 980) loss: 1.862828\n",
      "(Iteration 501 / 980) loss: 1.866056\n",
      "(Iteration 521 / 980) loss: 1.794015\n",
      "(Iteration 541 / 980) loss: 1.162637\n",
      "(Iteration 561 / 980) loss: 1.627796\n",
      "(Iteration 581 / 980) loss: 1.627666\n",
      "(Iteration 601 / 980) loss: 1.698369\n",
      "(Iteration 621 / 980) loss: 1.595964\n",
      "(Iteration 641 / 980) loss: 1.481912\n",
      "(Iteration 661 / 980) loss: 1.529858\n",
      "(Iteration 681 / 980) loss: 1.528636\n",
      "(Iteration 701 / 980) loss: 1.425851\n",
      "(Iteration 721 / 980) loss: 1.521927\n",
      "(Iteration 741 / 980) loss: 1.720421\n",
      "(Iteration 761 / 980) loss: 1.624378\n",
      "(Iteration 781 / 980) loss: 1.440093\n",
      "(Iteration 801 / 980) loss: 1.625264\n",
      "(Iteration 821 / 980) loss: 1.478418\n",
      "(Iteration 841 / 980) loss: 1.512899\n",
      "(Iteration 861 / 980) loss: 1.749510\n",
      "(Iteration 881 / 980) loss: 1.543647\n",
      "(Iteration 901 / 980) loss: 1.763783\n",
      "(Iteration 921 / 980) loss: 1.534437\n",
      "(Iteration 941 / 980) loss: 1.745596\n",
      "(Iteration 961 / 980) loss: 1.797574\n",
      "(Epoch 1 / 1) train acc: 0.474000; val_acc: 0.463000\n"
     ]
    }
   ],
   "source": [
    "model = ThreeLayerConvNet(weight_scale=0.001, hidden_dim=500, reg=0.001)\n",
    "\n",
    "solver = Solver(model, data,\n",
    "                num_epochs=1, batch_size=50,\n",
    "                update_rule='adam',\n",
    "                optim_config={\n",
    "                  'learning_rate': 1e-3,\n",
    "                },\n",
    "                verbose=True, print_every=20)\n",
    "solver.train()"
   ]
  },
  {
   "cell_type": "markdown",
   "metadata": {},
   "source": [
    "## Visualize Filters\n",
    "You can visualize the first-layer convolutional filters from the trained network by running the following:"
   ]
  },
  {
   "cell_type": "code",
   "execution_count": 17,
   "metadata": {},
   "outputs": [
    {
     "data": {
      "image/png": "[encoded data removed]",
      "text/plain": [
       "<Figure size 360x360 with 1 Axes>"
      ]
     },
     "metadata": {},
     "output_type": "display_data"
    }
   ],
   "source": [
    "from cs231n.vis_utils import visualize_grid\n",
    "\n",
    "grid = visualize_grid(model.params['W1'].transpose(0, 2, 3, 1))\n",
    "plt.imshow(grid.astype('uint8'))\n",
    "plt.axis('off')\n",
    "plt.gcf().set_size_inches(5, 5)\n",
    "plt.show()"
   ]
  },
  {
   "cell_type": "markdown",
   "metadata": {},
   "source": [
    "# Spatial Batch Normalization\n",
    "We already saw that batch normalization is a very useful technique for training deep fully-connected networks. Batch normalization can also be used for convolutional networks, but we need to tweak it a bit; the modification will be called \"spatial batch normalization.\"\n",
    "\n",
    "Normally batch-normalization accepts inputs of shape `(N, D)` and produces outputs of shape `(N, D)`, where we normalize across the minibatch dimension `N`. For data coming from convolutional layers, batch normalization needs to accept inputs of shape `(N, C, H, W)` and produce outputs of shape `(N, C, H, W)` where the `N` dimension gives the minibatch size and the `(H, W)` dimensions give the spatial size of the feature map.\n",
    "\n",
    "If the feature map was produced using convolutions, then we expect the statistics of each feature channel to be relatively consistent both between different imagesand different locations within the same image. Therefore spatial batch normalization computes a mean and variance for each of the `C` feature channels by computing statistics over both the minibatch dimension `N` and the spatial dimensions `H` and `W`."
   ]
  },
  {
   "cell_type": "markdown",
   "metadata": {},
   "source": [
    "## Spatial batch normalization: forward\n",
    "\n",
    "In the file `cs231n/layers.py`, implement the forward pass for spatial batch normalization in the function `spatial_batchnorm_forward`. Check your implementation by running the following:"
   ]
  },
  {
   "cell_type": "code",
   "execution_count": 18,
   "metadata": {},
   "outputs": [
    {
     "name": "stdout",
     "output_type": "stream",
     "text": [
      "Before spatial batch normalization:\n",
      "  Shape:  (2, 3, 4, 5)\n",
      "  Means:  [ 9.77381792 10.01720322 10.81677902]\n",
      "  Stds:  [3.58846032 3.72050308 3.16477727]\n",
      "After spatial batch normalization:\n",
      "  Shape:  (2, 3, 4, 5)\n",
      "  Means:  [-1.49880108e-16 -6.10622664e-17 -5.49560397e-16]\n",
      "  Stds:  [0.99999961 0.99999964 0.9999995 ]\n",
      "After spatial batch normalization (nontrivial gamma, beta):\n",
      "  Shape:  (2, 3, 4, 5)\n",
      "  Means:  [6. 7. 8.]\n",
      "  Stds:  [2.99999884 3.99999856 4.9999975 ]\n"
     ]
    }
   ],
   "source": [
    "# Check the training-time forward pass by checking means and variances\n",
    "# of features both before and after spatial batch normalization\n",
    "\n",
    "N, C, H, W = 2, 3, 4, 5\n",
    "x = 4 * np.random.randn(N, C, H, W) + 10\n",
    "\n",
    "print ('Before spatial batch normalization:')\n",
    "print ('  Shape: ', x.shape)\n",
    "print ('  Means: ', x.mean(axis=(0, 2, 3)))\n",
    "print ('  Stds: ', x.std(axis=(0, 2, 3)))\n",
    "\n",
    "# Means should be close to zero and stds close to one\n",
    "gamma, beta = np.ones(C), np.zeros(C)\n",
    "bn_param = {'mode': 'train'}\n",
    "out, _ = spatial_batchnorm_forward(x, gamma, beta, bn_param)\n",
    "print ('After spatial batch normalization:')\n",
    "print ('  Shape: ', out.shape)\n",
    "print ('  Means: ', out.mean(axis=(0, 2, 3)))\n",
    "print ('  Stds: ', out.std(axis=(0, 2, 3)))\n",
    "\n",
    "# Means should be close to beta and stds close to gamma\n",
    "gamma, beta = np.asarray([3, 4, 5]), np.asarray([6, 7, 8])\n",
    "out, _ = spatial_batchnorm_forward(x, gamma, beta, bn_param)\n",
    "print ('After spatial batch normalization (nontrivial gamma, beta):')\n",
    "print ('  Shape: ', out.shape)\n",
    "print ('  Means: ', out.mean(axis=(0, 2, 3)))\n",
    "print ('  Stds: ', out.std(axis=(0, 2, 3)))"
   ]
  },
  {
   "cell_type": "code",
   "execution_count": 19,
   "metadata": {},
   "outputs": [
    {
     "name": "stdout",
     "output_type": "stream",
     "text": [
      "After spatial batch normalization (test-time):\n",
      "  means:  [0.11112335 0.01211727 0.00440087 0.01739616]\n",
      "  stds:  [0.97612743 0.99541548 0.98823265 0.99849869]\n"
     ]
    }
   ],
   "source": [
    "# Check the test-time forward pass by running the training-time\n",
    "# forward pass many times to warm up the running averages, and then\n",
    "# checking the means and variances of activations after a test-time\n",
    "# forward pass.\n",
    "\n",
    "N, C, H, W = 10, 4, 11, 12\n",
    "\n",
    "bn_param = {'mode': 'train'}\n",
    "gamma = np.ones(C)\n",
    "beta = np.zeros(C)\n",
    "for t in range(50):\n",
    "  x = 2.3 * np.random.randn(N, C, H, W) + 13\n",
    "  spatial_batchnorm_forward(x, gamma, beta, bn_param)\n",
    "bn_param['mode'] = 'test'\n",
    "x = 2.3 * np.random.randn(N, C, H, W) + 13\n",
    "a_norm, _ = spatial_batchnorm_forward(x, gamma, beta, bn_param)\n",
    "\n",
    "# Means should be close to zero and stds close to one, but will be\n",
    "# noisier than training-time forward passes.\n",
    "print ('After spatial batch normalization (test-time):')\n",
    "print ('  means: ', a_norm.mean(axis=(0, 2, 3)))\n",
    "print ('  stds: ', a_norm.std(axis=(0, 2, 3)))"
   ]
  },
  {
   "cell_type": "markdown",
   "metadata": {},
   "source": [
    "## Spatial batch normalization: backward\n",
    "In the file `cs231n/layers.py`, implement the backward pass for spatial batch normalization in the function `spatial_batchnorm_backward`. Run the following to check your implementation using a numeric gradient check:"
   ]
  },
  {
   "cell_type": "code",
   "execution_count": 20,
   "metadata": {},
   "outputs": [
    {
     "name": "stdout",
     "output_type": "stream",
     "text": [
      "dx error:  9.217812601274947e-08\n",
      "dgamma error:  3.715557780611065e-12\n",
      "dbeta error:  6.0754015710825266e-12\n"
     ]
    }
   ],
   "source": [
    "N, C, H, W = 2, 3, 4, 5\n",
    "x = 5 * np.random.randn(N, C, H, W) + 12\n",
    "gamma = np.random.randn(C)\n",
    "beta = np.random.randn(C)\n",
    "dout = np.random.randn(N, C, H, W)\n",
    "\n",
    "bn_param = {'mode': 'train'}\n",
    "fx = lambda x: spatial_batchnorm_forward(x, gamma, beta, bn_param)[0]\n",
    "fg = lambda a: spatial_batchnorm_forward(x, gamma, beta, bn_param)[0]\n",
    "fb = lambda b: spatial_batchnorm_forward(x, gamma, beta, bn_param)[0]\n",
    "\n",
    "dx_num = eval_numerical_gradient_array(fx, x, dout)\n",
    "da_num = eval_numerical_gradient_array(fg, gamma, dout)\n",
    "db_num = eval_numerical_gradient_array(fb, beta, dout)\n",
    "\n",
    "_, cache = spatial_batchnorm_forward(x, gamma, beta, bn_param)\n",
    "dx, dgamma, dbeta = spatial_batchnorm_backward(dout, cache)\n",
    "print ('dx error: ', rel_error(dx_num, dx))\n",
    "print ('dgamma error: ', rel_error(da_num, dgamma))\n",
    "print ('dbeta error: ', rel_error(db_num, dbeta))"
   ]
  },
  {
   "cell_type": "markdown",
   "metadata": {},
   "source": [
    "# Experiment!\n",
    "Experiment and try to get the best performance that you can on CIFAR-10 using a ConvNet. Here are some ideas to get you started:\n",
    "\n",
    "### Things you should try:\n",
    "- Filter size: Above we used 7x7; this makes pretty pictures but smaller filters may be more efficient\n",
    "- Number of filters: Above we used 32 filters. Do more or fewer do better?\n",
    "- Batch normalization: Try adding spatial batch normalization after convolution layers and vanilla batch normalization aafter affine layers. Do your networks train faster?\n",
    "- Network architecture: The network above has two layers of trainable parameters. Can you do better with a deeper network? You can implement alternative architectures in the file `cs231n/classifiers/convnet.py`. Some good architectures to try include:\n",
    "    - [conv-relu-pool]xN - conv - relu - [affine]xM - [softmax or SVM]\n",
    "    - [conv-relu-pool]XN - [affine]XM - [softmax or SVM]\n",
    "    - [conv-relu-conv-relu-pool]xN - [affine]xM - [softmax or SVM]\n",
    "\n",
    "### Tips for training\n",
    "For each network architecture that you try, you should tune the learning rate and regularization strength. When doing this there are a couple important things to keep in mind:\n",
    "\n",
    "- If the parameters are working well, you should see improvement within a few hundred iterations\n",
    "- Remember the course-to-fine approach for hyperparameter tuning: start by testing a large range of hyperparameters for just a few training iterations to find the combinations of parameters that are working at all.\n",
    "- Once you have found some sets of parameters that seem to work, search more finely around these parameters. You may need to train for more epochs.\n",
    "\n",
    "### Going above and beyond\n",
    "If you are feeling adventurous there are many other features you can implement to try and improve your performance. You are **not required** to implement any of these; however they would be good things to try for extra credit.\n",
    "\n",
    "- Alternative update steps: For the assignment we implemented SGD+momentum, RMSprop, and Adam; you could try alternatives like AdaGrad or AdaDelta.\n",
    "- Alternative activation functions such as leaky ReLU, parametric ReLU, or MaxOut.\n",
    "- Model ensembles\n",
    "- Data augmentation\n",
    "\n",
    "If you do decide to implement something extra, clearly describe it in the \"Extra Credit Description\" cell below.\n",
    "\n",
    "### What we expect\n",
    "At the very least, you should be able to train a ConvNet that gets at least 65% accuracy on the validation set. This is just a lower bound - if you are careful it should be possible to get accuracies much higher than that! Extra credit points will be awarded for particularly high-scoring models or unique approaches.\n",
    "\n",
    "You should use the space below to experiment and train your network. The final cell in this notebook should contain the training, validation, and test set accuracies for your final trained network. In this notebook you should also write an explanation of what you did, any additional features that you implemented, and any visualizations or graphs that you make in the process of training and evaluating your network.\n",
    "\n",
    "Have fun and happy training!"
   ]
  },
  {
   "cell_type": "code",
   "execution_count": null,
   "metadata": {
    "scrolled": true
   },
   "outputs": [],
   "source": [
    "#Train a really good model on CIFAR-10\n",
    "model = ConvNet(num_filters=[32, 64],\n",
    "                filter_size=[3, 3],\n",
    "                hidden_dim=[300],\n",
    "                use_batchnorm=True,\n",
    "                reg=0.0)"
   ]
  },
  {
   "cell_type": "code",
   "execution_count": 44,
   "metadata": {
    "scrolled": false
   },
   "outputs": [
    {
     "name": "stdout",
     "output_type": "stream",
     "text": [
      "(Iteration 1 / 2295) loss: 0.561505\n",
      "(Epoch 0 / 3) train acc: 0.773000; val_acc: 0.673000\n",
      "(Iteration 31 / 2295) loss: 0.675193\n",
      "(Iteration 61 / 2295) loss: 0.663387\n",
      "(Iteration 91 / 2295) loss: 0.466246\n",
      "(Iteration 121 / 2295) loss: 0.637142\n",
      "(Iteration 151 / 2295) loss: 0.723730\n",
      "(Iteration 181 / 2295) loss: 0.708195\n",
      "(Iteration 211 / 2295) loss: 0.516988\n",
      "(Iteration 241 / 2295) loss: 0.617065\n",
      "(Iteration 271 / 2295) loss: 0.711729\n",
      "(Iteration 301 / 2295) loss: 0.886724\n",
      "(Iteration 331 / 2295) loss: 0.582003\n",
      "(Iteration 361 / 2295) loss: 0.575487\n",
      "(Iteration 391 / 2295) loss: 0.517165\n",
      "(Iteration 421 / 2295) loss: 0.758337\n",
      "(Iteration 451 / 2295) loss: 0.773426\n",
      "(Iteration 481 / 2295) loss: 0.923944\n",
      "(Iteration 511 / 2295) loss: 0.540373\n",
      "(Iteration 541 / 2295) loss: 0.838689\n",
      "(Iteration 571 / 2295) loss: 0.834284\n",
      "(Iteration 601 / 2295) loss: 0.768828\n",
      "(Iteration 631 / 2295) loss: 0.711860\n",
      "(Iteration 661 / 2295) loss: 0.600351\n",
      "(Iteration 691 / 2295) loss: 0.509493\n",
      "(Iteration 721 / 2295) loss: 0.570286\n",
      "(Iteration 751 / 2295) loss: 0.499504\n",
      "(Epoch 1 / 3) train acc: 0.753000; val_acc: 0.678000\n",
      "(Iteration 781 / 2295) loss: 0.829611\n",
      "(Iteration 811 / 2295) loss: 0.713476\n",
      "(Iteration 841 / 2295) loss: 0.527572\n",
      "(Iteration 871 / 2295) loss: 0.776453\n",
      "(Iteration 901 / 2295) loss: 0.688016\n",
      "(Iteration 931 / 2295) loss: 0.547383\n",
      "(Iteration 961 / 2295) loss: 0.679912\n",
      "(Iteration 991 / 2295) loss: 0.996097\n",
      "(Iteration 1021 / 2295) loss: 0.558719\n",
      "(Iteration 1051 / 2295) loss: 0.449168\n",
      "(Iteration 1081 / 2295) loss: 0.698160\n",
      "(Iteration 1111 / 2295) loss: 0.724067\n",
      "(Iteration 1141 / 2295) loss: 0.572287\n",
      "(Iteration 1171 / 2295) loss: 0.887659\n",
      "(Iteration 1201 / 2295) loss: 0.804904\n",
      "(Iteration 1231 / 2295) loss: 0.699074\n",
      "(Iteration 1261 / 2295) loss: 0.815483\n",
      "(Iteration 1291 / 2295) loss: 0.450966\n",
      "(Iteration 1321 / 2295) loss: 0.651253\n",
      "(Iteration 1351 / 2295) loss: 0.687664\n",
      "(Iteration 1381 / 2295) loss: 0.460766\n",
      "(Iteration 1411 / 2295) loss: 0.544723\n",
      "(Iteration 1441 / 2295) loss: 0.520605\n",
      "(Iteration 1471 / 2295) loss: 0.732768\n",
      "(Iteration 1501 / 2295) loss: 0.722020\n",
      "(Epoch 2 / 3) train acc: 0.753000; val_acc: 0.664000\n",
      "(Iteration 1531 / 2295) loss: 0.946755\n",
      "(Iteration 1561 / 2295) loss: 0.517767\n",
      "(Iteration 1591 / 2295) loss: 0.673815\n",
      "(Iteration 1621 / 2295) loss: 0.605468\n",
      "(Iteration 1651 / 2295) loss: 0.557652\n",
      "(Iteration 1681 / 2295) loss: 0.893722\n",
      "(Iteration 1711 / 2295) loss: 0.713641\n",
      "(Iteration 1741 / 2295) loss: 0.703491\n",
      "(Iteration 1771 / 2295) loss: 0.665938\n",
      "(Iteration 1801 / 2295) loss: 0.555565\n",
      "(Iteration 1831 / 2295) loss: 0.720772\n",
      "(Iteration 1861 / 2295) loss: 0.567409\n",
      "(Iteration 1891 / 2295) loss: 0.684860\n",
      "(Iteration 1921 / 2295) loss: 0.837879\n",
      "(Iteration 1951 / 2295) loss: 0.453619\n",
      "(Iteration 1981 / 2295) loss: 0.533775\n",
      "(Iteration 2011 / 2295) loss: 0.526215\n",
      "(Iteration 2041 / 2295) loss: 0.565585\n",
      "(Iteration 2071 / 2295) loss: 0.703251\n",
      "(Iteration 2101 / 2295) loss: 0.690284\n",
      "(Iteration 2131 / 2295) loss: 0.518309\n",
      "(Iteration 2161 / 2295) loss: 0.966193\n",
      "(Iteration 2191 / 2295) loss: 0.685476\n",
      "(Iteration 2221 / 2295) loss: 0.797532\n",
      "(Iteration 2251 / 2295) loss: 0.623926\n",
      "(Iteration 2281 / 2295) loss: 0.508627\n",
      "(Epoch 3 / 3) train acc: 0.814000; val_acc: 0.674000\n"
     ]
    }
   ],
   "source": [
    "solver = Solver(model, data,\n",
    "                num_epochs=3, \n",
    "                batch_size=64,\n",
    "                update_rule='adam',\n",
    "                optim_config={\n",
    "                  'learning_rate': 1e-3,\n",
    "                },\n",
    "                lr_decay=0.9,\n",
    "                verbose=True,\n",
    "                print_every=30\n",
    "                )\n",
    "solver.train()"
   ]
  },
  {
   "cell_type": "code",
   "execution_count": null,
   "metadata": {
    "scrolled": true
   },
   "outputs": [],
   "source": [
    "model2 = ConvNet(num_filters=[64, 128],\n",
    "                filter_size=[3, 3],\n",
    "                hidden_dim=[300],\n",
    "                use_batchnorm=True,\n",
    "                reg=1e-3)\n",
    "\n"
   ]
  },
  {
   "cell_type": "code",
   "execution_count": 51,
   "metadata": {},
   "outputs": [
    {
     "name": "stdout",
     "output_type": "stream",
     "text": [
      "(Iteration 1 / 2295) loss: 1.006876\n",
      "(Epoch 0 / 3) train acc: 0.703000; val_acc: 0.667000\n",
      "(Iteration 31 / 2295) loss: 1.149091\n",
      "(Iteration 61 / 2295) loss: 1.019798\n",
      "(Iteration 91 / 2295) loss: 1.144606\n",
      "(Iteration 121 / 2295) loss: 1.288015\n",
      "(Iteration 151 / 2295) loss: 1.420209\n",
      "(Iteration 181 / 2295) loss: 1.020331\n",
      "(Iteration 211 / 2295) loss: 1.125884\n",
      "(Iteration 241 / 2295) loss: 1.288563\n",
      "(Iteration 271 / 2295) loss: 0.996003\n",
      "(Iteration 301 / 2295) loss: 1.395847\n",
      "(Iteration 331 / 2295) loss: 1.020321\n",
      "(Iteration 361 / 2295) loss: 1.013939\n",
      "(Iteration 391 / 2295) loss: 0.968845\n",
      "(Iteration 421 / 2295) loss: 1.133494\n",
      "(Iteration 451 / 2295) loss: 0.982025\n",
      "(Iteration 481 / 2295) loss: 1.224980\n",
      "(Iteration 511 / 2295) loss: 1.044706\n",
      "(Iteration 541 / 2295) loss: 1.199615\n",
      "(Iteration 571 / 2295) loss: 1.222129\n",
      "(Iteration 601 / 2295) loss: 1.346393\n",
      "(Iteration 631 / 2295) loss: 1.240508\n",
      "(Iteration 661 / 2295) loss: 0.941744\n",
      "(Iteration 691 / 2295) loss: 1.242878\n",
      "(Iteration 721 / 2295) loss: 1.103147\n",
      "(Iteration 751 / 2295) loss: 1.127192\n",
      "(Epoch 1 / 3) train acc: 0.731000; val_acc: 0.684000\n",
      "(Iteration 781 / 2295) loss: 1.379700\n",
      "(Iteration 811 / 2295) loss: 1.170997\n",
      "(Iteration 841 / 2295) loss: 1.027134\n",
      "(Iteration 871 / 2295) loss: 1.198408\n",
      "(Iteration 901 / 2295) loss: 1.264759\n",
      "(Iteration 931 / 2295) loss: 1.163348\n",
      "(Iteration 961 / 2295) loss: 1.242311\n",
      "(Iteration 991 / 2295) loss: 1.541013\n",
      "(Iteration 1021 / 2295) loss: 1.144949\n",
      "(Iteration 1051 / 2295) loss: 0.929833\n",
      "(Iteration 1081 / 2295) loss: 1.211760\n",
      "(Iteration 1111 / 2295) loss: 1.309678\n",
      "(Iteration 1141 / 2295) loss: 0.951549\n",
      "(Iteration 1171 / 2295) loss: 1.080337\n",
      "(Iteration 1201 / 2295) loss: 0.898036\n",
      "(Iteration 1231 / 2295) loss: 1.002309\n",
      "(Iteration 1261 / 2295) loss: 1.290260\n",
      "(Iteration 1291 / 2295) loss: 1.086540\n",
      "(Iteration 1321 / 2295) loss: 1.008924\n",
      "(Iteration 1351 / 2295) loss: 1.203184\n",
      "(Iteration 1381 / 2295) loss: 1.388452\n",
      "(Iteration 1411 / 2295) loss: 0.930412\n",
      "(Iteration 1441 / 2295) loss: 0.970453\n",
      "(Iteration 1471 / 2295) loss: 1.100605\n",
      "(Iteration 1501 / 2295) loss: 1.134120\n",
      "(Epoch 2 / 3) train acc: 0.768000; val_acc: 0.674000\n",
      "(Iteration 1531 / 2295) loss: 1.210284\n",
      "(Iteration 1561 / 2295) loss: 0.805728\n",
      "(Iteration 1591 / 2295) loss: 0.928636\n",
      "(Iteration 1621 / 2295) loss: 1.250541\n",
      "(Iteration 1651 / 2295) loss: 1.095993\n",
      "(Iteration 1681 / 2295) loss: 0.948731\n",
      "(Iteration 1711 / 2295) loss: 0.822192\n",
      "(Iteration 1741 / 2295) loss: 0.898005\n",
      "(Iteration 1771 / 2295) loss: 0.838714\n",
      "(Iteration 1801 / 2295) loss: 0.884877\n",
      "(Iteration 1831 / 2295) loss: 1.101899\n",
      "(Iteration 1861 / 2295) loss: 0.837421\n",
      "(Iteration 1891 / 2295) loss: 1.197668\n",
      "(Iteration 1921 / 2295) loss: 1.240172\n",
      "(Iteration 1951 / 2295) loss: 0.884050\n",
      "(Iteration 1981 / 2295) loss: 0.953430\n",
      "(Iteration 2011 / 2295) loss: 1.124876\n",
      "(Iteration 2041 / 2295) loss: 1.048184\n",
      "(Iteration 2071 / 2295) loss: 0.901121\n",
      "(Iteration 2101 / 2295) loss: 0.949318\n",
      "(Iteration 2131 / 2295) loss: 0.962804\n",
      "(Iteration 2161 / 2295) loss: 0.944600\n",
      "(Iteration 2191 / 2295) loss: 1.222445\n",
      "(Iteration 2221 / 2295) loss: 1.156167\n",
      "(Iteration 2251 / 2295) loss: 1.062884\n",
      "(Iteration 2281 / 2295) loss: 1.057635\n",
      "(Epoch 3 / 3) train acc: 0.758000; val_acc: 0.678000\n"
     ]
    }
   ],
   "source": [
    "solver = Solver(model2, data,\n",
    "                num_epochs=3, \n",
    "                batch_size=64,\n",
    "                update_rule='adam',\n",
    "                optim_config={\n",
    "                  'learning_rate': 1e-3,\n",
    "                },\n",
    "                lr_decay=0.9,\n",
    "                verbose=True,\n",
    "                print_every=30\n",
    "                )\n",
    "solver.train()"
   ]
  },
  {
   "cell_type": "code",
   "execution_count": 46,
   "metadata": {},
   "outputs": [
    {
     "name": "stdout",
     "output_type": "stream",
     "text": [
      "val acc ==>  0.678\n",
      "test acc ==>  0.678\n"
     ]
    }
   ],
   "source": [
    "val_pre = model.loss(data['X_val']).argmax(1)\n",
    "print('val acc ==> ', np.sum(val_pre == data['y_val']) / len(val_pre))\n",
    "test_pre = model.loss(data['X_test']).argmax(1)\n",
    "print('test acc ==> ', np.sum(test_pre == data['y_test']) / len(test_pre))"
   ]
  },
  {
   "cell_type": "code",
   "execution_count": 53,
   "metadata": {},
   "outputs": [
    {
     "name": "stdout",
     "output_type": "stream",
     "text": [
      "val acc ==>  0.679\n",
      "test acc ==>  0.679\n"
     ]
    }
   ],
   "source": [
    "val_pre = model2.loss(data['X_val']).argmax(1)\n",
    "print('val acc ==> ', np.sum(val_pre == data['y_val']) / len(val_pre))\n",
    "test_pre = model2.loss(data['X_test']).argmax(1)\n",
    "print('test acc ==> ', np.sum(test_pre == data['y_test']) / len(test_pre))"
   ]
  },
  {
   "cell_type": "code",
   "execution_count": 52,
   "metadata": {},
   "outputs": [
    {
     "name": "stdout",
     "output_type": "stream",
     "text": [
      "val acc ==>  0.709\n",
      "test acc ==>  0.707\n"
     ]
    }
   ],
   "source": [
    "val_pre = (model2.loss(data['X_val']) + model.loss(data['X_val'])).argmax(1)\n",
    "print('val acc ==> ', np.sum(val_pre == data['y_val']) / len(val_pre))\n",
    "test_pre = (model2.loss(data['X_test']) + model.loss(data['X_test'])).argmax(1)\n",
    "print('test acc ==> ', np.sum(test_pre == data['y_test']) / len(test_pre))"
   ]
  },
  {
   "cell_type": "markdown",
   "metadata": {},
   "source": [
    "# Extra Credit Description\n",
    "If you implement any additional features for extra credit, clearly describe them here with pointers to any code in this or other files if applicable."
   ]
  }
 ],
 "metadata": {
  "kernelspec": {
   "display_name": "Python 3",
   "language": "python",
   "name": "python3"
  },
  "language_info": {
   "codemirror_mode": {
    "name": "ipython",
    "version": 3
   },
   "file_extension": ".py",
   "mimetype": "text/x-python",
   "name": "python",
   "nbconvert_exporter": "python",
   "pygments_lexer": "ipython3",
   "version": "3.5.2"
  }
 },
 "nbformat": 4,
 "nbformat_minor": 1
}
