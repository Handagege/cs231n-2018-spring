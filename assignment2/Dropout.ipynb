{
 "cells": [
  {
   "cell_type": "markdown",
   "metadata": {},
   "source": [
    "# Dropout\n",
    "Dropout [1] is a technique for regularizing neural networks by randomly setting some features to zero during the forward pass. In this exercise you will implement a dropout layer and modify your fully-connected network to optionally use dropout.\n",
    "\n",
    "[1] Geoffrey E. Hinton et al, \"Improving neural networks by preventing co-adaptation of feature detectors\", arXiv 2012"
   ]
  },
  {
   "cell_type": "code",
   "execution_count": 1,
   "metadata": {},
   "outputs": [
    {
     "name": "stdout",
     "output_type": "stream",
     "text": [
      "run the following from the cs231n directory and try again:\n",
      "python setup.py build_ext --inplace\n",
      "You may also need to restart your iPython kernel\n"
     ]
    }
   ],
   "source": [
    "# As usual, a bit of setup\n",
    "\n",
    "import time\n",
    "import numpy as np\n",
    "import matplotlib.pyplot as plt\n",
    "from cs231n.classifiers.fc_net import *\n",
    "from cs231n.data_utils import get_CIFAR10_data\n",
    "from cs231n.gradient_check import eval_numerical_gradient, eval_numerical_gradient_array\n",
    "from cs231n.solver import Solver\n",
    "\n",
    "%matplotlib inline\n",
    "plt.rcParams['figure.figsize'] = (10.0, 8.0) # set default size of plots\n",
    "plt.rcParams['image.interpolation'] = 'nearest'\n",
    "plt.rcParams['image.cmap'] = 'gray'\n",
    "\n",
    "# for auto-reloading external modules\n",
    "# see http://stackoverflow.com/questions/1907993/autoreload-of-modules-in-ipython\n",
    "%load_ext autoreload\n",
    "%autoreload 2\n",
    "\n",
    "def rel_error(x, y):\n",
    "  \"\"\" returns relative error \"\"\"\n",
    "  return np.max(np.abs(x - y) / (np.maximum(1e-8, np.abs(x) + np.abs(y))))"
   ]
  },
  {
   "cell_type": "code",
   "execution_count": 3,
   "metadata": {},
   "outputs": [
    {
     "name": "stdout",
     "output_type": "stream",
     "text": [
      "X_train:  (49000, 3, 32, 32)\n",
      "y_train:  (49000,)\n",
      "X_val:  (1000, 3, 32, 32)\n",
      "y_val:  (1000,)\n",
      "X_test:  (1000, 3, 32, 32)\n",
      "y_test:  (1000,)\n"
     ]
    }
   ],
   "source": [
    "# Load the (preprocessed) CIFAR10 data.\n",
    "\n",
    "data = get_CIFAR10_data()\n",
    "for k, v in data.items():\n",
    "  print ('%s: ' % k, v.shape)"
   ]
  },
  {
   "cell_type": "markdown",
   "metadata": {},
   "source": [
    "# Dropout forward pass\n",
    "In the file `cs231n/layers.py`, implement the forward pass for dropout. Since dropout behaves differently during training and testing, make sure to implement the operation for both modes.\n",
    "\n",
    "Once you have done so, run the cell below to test your implementation."
   ]
  },
  {
   "cell_type": "code",
   "execution_count": 5,
   "metadata": {},
   "outputs": [
    {
     "name": "stdout",
     "output_type": "stream",
     "text": [
      "Running tests with p =  0.3\n",
      "Mean of input:  9.998251814136472\n",
      "Mean of train-time output:  5.4506053442109765\n",
      "Mean of test-time output:  9.998251814136472\n",
      "Fraction of train-time output set to zero:  0.618384\n",
      "Fraction of test-time output set to zero:  0.0\n",
      "\n",
      "Running tests with p =  0.6\n",
      "Mean of input:  9.998251814136472\n",
      "Mean of train-time output:  6.845796092320226\n",
      "Mean of test-time output:  9.998251814136472\n",
      "Fraction of train-time output set to zero:  0.72616\n",
      "Fraction of test-time output set to zero:  0.0\n",
      "\n",
      "Running tests with p =  0.75\n",
      "Mean of input:  9.998251814136472\n",
      "Mean of train-time output:  9.066027084630244\n",
      "Mean of test-time output:  9.998251814136472\n",
      "Fraction of train-time output set to zero:  0.773252\n",
      "Fraction of test-time output set to zero:  0.0\n",
      "\n"
     ]
    }
   ],
   "source": [
    "x = np.random.randn(500, 500) + 10\n",
    "\n",
    "for p in [0.3, 0.6, 0.75]:\n",
    "  out, _ = dropout_forward(x, {'mode': 'train', 'p': p})\n",
    "  out_test, _ = dropout_forward(x, {'mode': 'test', 'p': p})\n",
    "\n",
    "  print ('Running tests with p = ', p)\n",
    "  print ('Mean of input: ', x.mean())\n",
    "  print ('Mean of train-time output: ', out.mean())\n",
    "  print ('Mean of test-time output: ', out_test.mean())\n",
    "  print ('Fraction of train-time output set to zero: ', (out == 0).mean())\n",
    "  print ('Fraction of test-time output set to zero: ', (out_test == 0).mean())\n",
    "  print ()"
   ]
  },
  {
   "cell_type": "markdown",
   "metadata": {},
   "source": [
    "# Dropout backward pass\n",
    "In the file `cs231n/layers.py`, implement the backward pass for dropout. After doing so, run the following cell to numerically gradient-check your implementation."
   ]
  },
  {
   "cell_type": "code",
   "execution_count": 6,
   "metadata": {},
   "outputs": [
    {
     "name": "stdout",
     "output_type": "stream",
     "text": [
      "dx relative error:  1.892907000639894e-11\n"
     ]
    }
   ],
   "source": [
    "x = np.random.randn(10, 10) + 10\n",
    "dout = np.random.randn(*x.shape)\n",
    "\n",
    "dropout_param = {'mode': 'train', 'p': 0.8, 'seed': 123}\n",
    "out, cache = dropout_forward(x, dropout_param)\n",
    "dx = dropout_backward(dout, cache)\n",
    "dx_num = eval_numerical_gradient_array(lambda xx: dropout_forward(xx, dropout_param)[0], x, dout)\n",
    "\n",
    "print ('dx relative error: ', rel_error(dx, dx_num))"
   ]
  },
  {
   "cell_type": "markdown",
   "metadata": {},
   "source": [
    "# Fully-connected nets with Dropout\n",
    "In the file `cs231n/classifiers/fc_net.py`, modify your implementation to use dropout. Specificially, if the constructor the the net receives a nonzero value for the `dropout` parameter, then the net should add dropout immediately after every ReLU nonlinearity. After doing so, run the following to numerically gradient-check your implementation."
   ]
  },
  {
   "cell_type": "code",
   "execution_count": 7,
   "metadata": {},
   "outputs": [
    {
     "name": "stdout",
     "output_type": "stream",
     "text": [
      "Running check with dropout =  0\n",
      "Initial loss:  2.304821252703185\n",
      "B1 relative error: 2.31e-08\n",
      "B2 relative error: 3.10e-08\n",
      "B3 relative error: 8.28e-11\n",
      "W1 relative error: 3.43e-07\n",
      "W2 relative error: 3.93e-07\n",
      "W3 relative error: 7.75e-08\n",
      "Running check with dropout =  0.25\n",
      "Initial loss:  2.299054075835688\n",
      "B1 relative error: 1.73e-08\n",
      "B2 relative error: 1.30e-09\n",
      "B3 relative error: 1.24e-10\n",
      "W1 relative error: 7.30e-06\n",
      "W2 relative error: 2.87e-08\n",
      "W3 relative error: 1.93e-08\n",
      "Running check with dropout =  0.5\n",
      "Initial loss:  2.3025270772141946\n",
      "B1 relative error: 1.46e-09\n",
      "B2 relative error: 6.47e-08\n",
      "B3 relative error: 1.44e-10\n",
      "W1 relative error: 2.03e-07\n",
      "W2 relative error: 5.63e-07\n",
      "W3 relative error: 1.28e-07\n"
     ]
    }
   ],
   "source": [
    "N, D, H1, H2, C = 2, 15, 20, 30, 10\n",
    "X = np.random.randn(N, D)\n",
    "y = np.random.randint(C, size=(N,))\n",
    "\n",
    "for dropout in [0, 0.25, 0.5]:\n",
    "  print ('Running check with dropout = ', dropout)\n",
    "  model = FullyConnectedNet([H1, H2], input_dim=D, num_classes=C,\n",
    "                            weight_scale=5e-2, dtype=np.float64,\n",
    "                            dropout=dropout, seed=123)\n",
    "\n",
    "  loss, grads = model.loss(X, y)\n",
    "  print ('Initial loss: ', loss)\n",
    "\n",
    "  for name in sorted(grads):\n",
    "    f = lambda _: model.loss(X, y)[0]\n",
    "    grad_num = eval_numerical_gradient(f, model.params[name], verbose=False, h=1e-5)\n",
    "    print ('%s relative error: %.2e' % (name, rel_error(grad_num, grads[name])))\n",
    "  print"
   ]
  },
  {
   "cell_type": "markdown",
   "metadata": {},
   "source": [
    "# Regularization experiment\n",
    "As an experiment, we will train a pair of two-layer networks on 500 training examples: one will use no dropout, and one will use a dropout probability of 0.75. We will then visualize the training and validation accuracies of the two networks over time."
   ]
  },
  {
   "cell_type": "code",
   "execution_count": 15,
   "metadata": {
    "scrolled": false
   },
   "outputs": [
    {
     "name": "stdout",
     "output_type": "stream",
     "text": [
      "0\n",
      "(Iteration 1 / 50) loss: 7.725816\n",
      "(Epoch 1 / 50) train acc: 0.260000; val_acc: 0.232000\n"
     ]
    },
    {
     "name": "stderr",
     "output_type": "stream",
     "text": [
      "C:\\Users\\aispeech\\Desktop\\HOMEWORK\\Deep-Learning-Course-2018\\dl_assignment2\\cs231n\\layers.py:619: RuntimeWarning: divide by zero encountered in log\n",
      "  dx = probs.copy()\n"
     ]
    },
    {
     "name": "stdout",
     "output_type": "stream",
     "text": [
      "(Epoch 2 / 50) train acc: 0.276000; val_acc: 0.199000\n",
      "(Epoch 3 / 50) train acc: 0.350000; val_acc: 0.254000\n",
      "(Epoch 4 / 50) train acc: 0.350000; val_acc: 0.233000\n",
      "(Epoch 5 / 50) train acc: 0.428000; val_acc: 0.267000\n",
      "(Epoch 6 / 50) train acc: 0.426000; val_acc: 0.252000\n",
      "(Epoch 7 / 50) train acc: 0.476000; val_acc: 0.220000\n",
      "(Epoch 8 / 50) train acc: 0.518000; val_acc: 0.232000\n",
      "(Epoch 9 / 50) train acc: 0.564000; val_acc: 0.238000\n",
      "(Epoch 10 / 50) train acc: 0.598000; val_acc: 0.239000\n",
      "(Epoch 11 / 50) train acc: 0.602000; val_acc: 0.234000\n",
      "(Epoch 12 / 50) train acc: 0.606000; val_acc: 0.247000\n",
      "(Epoch 13 / 50) train acc: 0.616000; val_acc: 0.259000\n",
      "(Epoch 14 / 50) train acc: 0.680000; val_acc: 0.282000\n",
      "(Epoch 15 / 50) train acc: 0.692000; val_acc: 0.272000\n",
      "(Epoch 16 / 50) train acc: 0.746000; val_acc: 0.279000\n",
      "(Epoch 17 / 50) train acc: 0.752000; val_acc: 0.263000\n",
      "(Epoch 18 / 50) train acc: 0.756000; val_acc: 0.270000\n",
      "(Epoch 19 / 50) train acc: 0.810000; val_acc: 0.263000\n",
      "(Epoch 20 / 50) train acc: 0.828000; val_acc: 0.275000\n",
      "(Epoch 21 / 50) train acc: 0.852000; val_acc: 0.280000\n",
      "(Epoch 22 / 50) train acc: 0.850000; val_acc: 0.273000\n",
      "(Epoch 23 / 50) train acc: 0.842000; val_acc: 0.260000\n",
      "(Epoch 24 / 50) train acc: 0.860000; val_acc: 0.255000\n",
      "(Epoch 25 / 50) train acc: 0.874000; val_acc: 0.254000\n",
      "(Epoch 26 / 50) train acc: 0.900000; val_acc: 0.250000\n",
      "(Epoch 27 / 50) train acc: 0.920000; val_acc: 0.247000\n",
      "(Epoch 28 / 50) train acc: 0.932000; val_acc: 0.257000\n",
      "(Epoch 29 / 50) train acc: 0.942000; val_acc: 0.262000\n",
      "(Epoch 30 / 50) train acc: 0.940000; val_acc: 0.267000\n",
      "(Epoch 31 / 50) train acc: 0.934000; val_acc: 0.268000\n",
      "(Epoch 32 / 50) train acc: 0.936000; val_acc: 0.268000\n",
      "(Epoch 33 / 50) train acc: 0.958000; val_acc: 0.293000\n",
      "(Epoch 34 / 50) train acc: 0.966000; val_acc: 0.286000\n",
      "(Epoch 35 / 50) train acc: 0.974000; val_acc: 0.291000\n",
      "(Epoch 36 / 50) train acc: 0.976000; val_acc: 0.286000\n",
      "(Epoch 37 / 50) train acc: 0.980000; val_acc: 0.284000\n",
      "(Epoch 38 / 50) train acc: 0.984000; val_acc: 0.285000\n",
      "(Epoch 39 / 50) train acc: 0.984000; val_acc: 0.291000\n",
      "(Epoch 40 / 50) train acc: 0.990000; val_acc: 0.289000\n",
      "(Epoch 41 / 50) train acc: 0.992000; val_acc: 0.286000\n",
      "(Epoch 42 / 50) train acc: 0.994000; val_acc: 0.289000\n",
      "(Epoch 43 / 50) train acc: 0.994000; val_acc: 0.282000\n",
      "(Epoch 44 / 50) train acc: 0.990000; val_acc: 0.275000\n",
      "(Epoch 45 / 50) train acc: 0.986000; val_acc: 0.273000\n",
      "(Epoch 46 / 50) train acc: 0.986000; val_acc: 0.276000\n",
      "(Epoch 47 / 50) train acc: 0.988000; val_acc: 0.281000\n",
      "(Epoch 48 / 50) train acc: 0.992000; val_acc: 0.274000\n",
      "(Epoch 49 / 50) train acc: 0.990000; val_acc: 0.274000\n",
      "(Epoch 50 / 50) train acc: 0.990000; val_acc: 0.279000\n",
      "0.75\n",
      "(Iteration 1 / 50) loss: 15.095928\n",
      "(Epoch 1 / 50) train acc: 0.224000; val_acc: 0.138000\n",
      "(Epoch 2 / 50) train acc: 0.318000; val_acc: 0.222000\n",
      "(Epoch 3 / 50) train acc: 0.370000; val_acc: 0.255000\n",
      "(Epoch 4 / 50) train acc: 0.382000; val_acc: 0.262000\n",
      "(Epoch 5 / 50) train acc: 0.436000; val_acc: 0.266000\n",
      "(Epoch 6 / 50) train acc: 0.454000; val_acc: 0.265000\n",
      "(Epoch 7 / 50) train acc: 0.488000; val_acc: 0.283000\n",
      "(Epoch 8 / 50) train acc: 0.504000; val_acc: 0.291000\n",
      "(Epoch 9 / 50) train acc: 0.542000; val_acc: 0.301000\n",
      "(Epoch 10 / 50) train acc: 0.570000; val_acc: 0.316000\n",
      "(Epoch 11 / 50) train acc: 0.606000; val_acc: 0.317000\n",
      "(Epoch 12 / 50) train acc: 0.640000; val_acc: 0.314000\n",
      "(Epoch 13 / 50) train acc: 0.666000; val_acc: 0.320000\n",
      "(Epoch 14 / 50) train acc: 0.678000; val_acc: 0.326000\n",
      "(Epoch 15 / 50) train acc: 0.682000; val_acc: 0.314000\n",
      "(Epoch 16 / 50) train acc: 0.696000; val_acc: 0.302000\n",
      "(Epoch 17 / 50) train acc: 0.710000; val_acc: 0.298000\n",
      "(Epoch 18 / 50) train acc: 0.730000; val_acc: 0.308000\n",
      "(Epoch 19 / 50) train acc: 0.730000; val_acc: 0.315000\n",
      "(Epoch 20 / 50) train acc: 0.766000; val_acc: 0.325000\n",
      "(Epoch 21 / 50) train acc: 0.772000; val_acc: 0.321000\n",
      "(Epoch 22 / 50) train acc: 0.772000; val_acc: 0.322000\n",
      "(Epoch 23 / 50) train acc: 0.780000; val_acc: 0.320000\n",
      "(Epoch 24 / 50) train acc: 0.798000; val_acc: 0.323000\n",
      "(Epoch 25 / 50) train acc: 0.806000; val_acc: 0.325000\n",
      "(Epoch 26 / 50) train acc: 0.790000; val_acc: 0.318000\n",
      "(Epoch 27 / 50) train acc: 0.796000; val_acc: 0.310000\n",
      "(Epoch 28 / 50) train acc: 0.796000; val_acc: 0.305000\n",
      "(Epoch 29 / 50) train acc: 0.802000; val_acc: 0.311000\n",
      "(Epoch 30 / 50) train acc: 0.822000; val_acc: 0.327000\n",
      "(Epoch 31 / 50) train acc: 0.826000; val_acc: 0.339000\n",
      "(Epoch 32 / 50) train acc: 0.830000; val_acc: 0.330000\n",
      "(Epoch 33 / 50) train acc: 0.836000; val_acc: 0.334000\n",
      "(Epoch 34 / 50) train acc: 0.846000; val_acc: 0.334000\n",
      "(Epoch 35 / 50) train acc: 0.842000; val_acc: 0.328000\n",
      "(Epoch 36 / 50) train acc: 0.832000; val_acc: 0.312000\n",
      "(Epoch 37 / 50) train acc: 0.836000; val_acc: 0.310000\n",
      "(Epoch 38 / 50) train acc: 0.860000; val_acc: 0.318000\n",
      "(Epoch 39 / 50) train acc: 0.864000; val_acc: 0.308000\n",
      "(Epoch 40 / 50) train acc: 0.856000; val_acc: 0.302000\n",
      "(Epoch 41 / 50) train acc: 0.856000; val_acc: 0.305000\n",
      "(Epoch 42 / 50) train acc: 0.862000; val_acc: 0.311000\n",
      "(Epoch 43 / 50) train acc: 0.864000; val_acc: 0.320000\n",
      "(Epoch 44 / 50) train acc: 0.872000; val_acc: 0.332000\n",
      "(Epoch 45 / 50) train acc: 0.858000; val_acc: 0.331000\n",
      "(Epoch 46 / 50) train acc: 0.870000; val_acc: 0.340000\n",
      "(Epoch 47 / 50) train acc: 0.880000; val_acc: 0.339000\n",
      "(Epoch 48 / 50) train acc: 0.882000; val_acc: 0.337000\n",
      "(Epoch 49 / 50) train acc: 0.880000; val_acc: 0.336000\n",
      "(Epoch 50 / 50) train acc: 0.902000; val_acc: 0.329000\n"
     ]
    }
   ],
   "source": [
    "# Train two identical nets, one with dropout and one without\n",
    "\n",
    "num_train = 500\n",
    "small_data = {\n",
    "  'X_train': data['X_train'][:num_train],\n",
    "  'y_train': data['y_train'][:num_train],\n",
    "  'X_val': data['X_val'],\n",
    "  'y_val': data['y_val'],\n",
    "}\n",
    "\n",
    "solvers = {}\n",
    "dropout_choices = [0, 0.75]\n",
    "for dropout in dropout_choices:\n",
    "  model = FullyConnectedNet([500], dropout=dropout)\n",
    "  print (dropout)\n",
    "\n",
    "  solver = Solver(model, small_data,\n",
    "                  num_epochs=50, batch_size=256,\n",
    "                  update_rule='adam',\n",
    "                  optim_config={\n",
    "                    'learning_rate': 5e-4,\n",
    "                  },\n",
    "                  verbose=True, print_every=100)\n",
    "  solver.train()\n",
    "  solvers[dropout] = solver"
   ]
  },
  {
   "cell_type": "code",
   "execution_count": 16,
   "metadata": {},
   "outputs": [
    {
     "data": {
      "image/png": "[encoded data removed]",
      "text/plain": [
       "<Figure size 1080x1080 with 2 Axes>"
      ]
     },
     "metadata": {},
     "output_type": "display_data"
    }
   ],
   "source": [
    "# Plot train and validation accuracies of the two models\n",
    "\n",
    "train_accs = []\n",
    "val_accs = []\n",
    "for dropout in dropout_choices:\n",
    "  solver = solvers[dropout]\n",
    "  train_accs.append(solver.train_acc_history[-1])\n",
    "  val_accs.append(solver.val_acc_history[-1])\n",
    "\n",
    "plt.subplot(3, 1, 1)\n",
    "for dropout in dropout_choices:\n",
    "  plt.plot(solvers[dropout].train_acc_history, 'o', label='%.2f dropout' % dropout)\n",
    "plt.title('Train accuracy')\n",
    "plt.xlabel('Epoch')\n",
    "plt.ylabel('Accuracy')\n",
    "plt.legend(ncol=2, loc='lower right')\n",
    "  \n",
    "plt.subplot(3, 1, 2)\n",
    "for dropout in dropout_choices:\n",
    "  plt.plot(solvers[dropout].val_acc_history, 'o', label='%.2f dropout' % dropout)\n",
    "plt.title('Val accuracy')\n",
    "plt.xlabel('Epoch')\n",
    "plt.ylabel('Accuracy')\n",
    "plt.legend(ncol=2, loc='lower right')\n",
    "\n",
    "plt.gcf().set_size_inches(15, 15)\n",
    "plt.show()"
   ]
  },
  {
   "cell_type": "markdown",
   "metadata": {},
   "source": [
    "# Question\n",
    "Explain what you see in this experiment. What does it suggest about dropout?"
   ]
  },
  {
   "cell_type": "markdown",
   "metadata": {},
   "source": [
    "# Answer\n",
    "训练阶段时没有添加dropout比添加了的正确率高，而在验证集阶段情况则相反。这说明添加了dropout能够使模型的泛化性能增强，增强了模型对于新数据的鲁棒性。"
   ]
  },
  {
   "cell_type": "code",
   "execution_count": null,
   "metadata": {},
   "outputs": [],
   "source": []
  }
 ],
 "metadata": {
  "kernelspec": {
   "display_name": "Python 3",
   "language": "python",
   "name": "python3"
  },
  "language_info": {
   "codemirror_mode": {
    "name": "ipython",
    "version": 3
   },
   "file_extension": ".py",
   "mimetype": "text/x-python",
   "name": "python",
   "nbconvert_exporter": "python",
   "pygments_lexer": "ipython3",
   "version": "3.6.5"
  }
 },
 "nbformat": 4,
 "nbformat_minor": 1
}
