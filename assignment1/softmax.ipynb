{
 "cells": [
  {
   "cell_type": "markdown",
   "metadata": {},
   "source": [
    "# Softmax exercise\n",
    "\n",
    "*Complete and hand in this completed worksheet (including its outputs and any supporting code outside of the worksheet) with your assignment submission. For more details see the [assignments page](http://vision.stanford.edu/teaching/cs231n/assignments.html) on the course website.*\n",
    "\n",
    "This exercise is analogous to the SVM exercise. You will:\n",
    "\n",
    "- implement a fully-vectorized **loss function** for the Softmax classifier\n",
    "- implement the fully-vectorized expression for its **analytic gradient**\n",
    "- **check your implementation** with numerical gradient\n",
    "- use a validation set to **tune the learning rate and regularization** strength\n",
    "- **optimize** the loss function with **SGD**\n",
    "- **visualize** the final learned weights\n"
   ]
  },
  {
   "cell_type": "code",
   "execution_count": 12,
   "metadata": {},
   "outputs": [
    {
     "name": "stdout",
     "output_type": "stream",
     "text": [
      "The autoreload extension is already loaded. To reload it, use:\n",
      "  %reload_ext autoreload\n"
     ]
    }
   ],
   "source": [
    "import random\n",
    "import numpy as np\n",
    "from cs231n.data_utils import load_CIFAR10\n",
    "import matplotlib.pyplot as plt\n",
    "%matplotlib inline\n",
    "plt.rcParams['figure.figsize'] = (10.0, 8.0) # set default size of plots\n",
    "plt.rcParams['image.interpolation'] = 'nearest'\n",
    "plt.rcParams['image.cmap'] = 'gray'\n",
    "\n",
    "# for auto-reloading extenrnal modules\n",
    "# see http://stackoverflow.com/questions/1907993/autoreload-of-modules-in-ipython\n",
    "%load_ext autoreload\n",
    "%autoreload 2"
   ]
  },
  {
   "cell_type": "code",
   "execution_count": 13,
   "metadata": {},
   "outputs": [
    {
     "name": "stdout",
     "output_type": "stream",
     "text": [
      "Train data shape:  (49000, 3073)\n",
      "Train labels shape:  (49000,)\n",
      "Validation data shape:  (1000, 3073)\n",
      "Validation labels shape:  (1000,)\n",
      "Test data shape:  (1000, 3073)\n",
      "Test labels shape:  (1000,)\n",
      "dev data shape:  (500, 3073)\n",
      "dev labels shape:  (500,)\n"
     ]
    }
   ],
   "source": [
    "def get_CIFAR10_data(num_training=49000, num_validation=1000, num_test=1000, num_dev=500):\n",
    "  \"\"\"\n",
    "  Load the CIFAR-10 dataset from disk and perform preprocessing to prepare\n",
    "  it for the linear classifier. These are the same steps as we used for the\n",
    "  SVM, but condensed to a single function.  \n",
    "  \"\"\"\n",
    "  # Load the raw CIFAR-10 data\n",
    "  cifar10_dir = 'cs231n/datasets/cifar-10-batches-py'\n",
    "  X_train, y_train, X_test, y_test = load_CIFAR10(cifar10_dir)\n",
    "  \n",
    "  # subsample the data\n",
    "  mask = range(num_training, num_training + num_validation)\n",
    "  X_val = X_train[mask]\n",
    "  y_val = y_train[mask]\n",
    "  mask = range(num_training)\n",
    "  X_train = X_train[mask]\n",
    "  y_train = y_train[mask]\n",
    "  mask = range(num_test)\n",
    "  X_test = X_test[mask]\n",
    "  y_test = y_test[mask]\n",
    "  mask = np.random.choice(num_training, num_dev, replace=False)\n",
    "  X_dev = X_train[mask]\n",
    "  y_dev = y_train[mask]\n",
    "  \n",
    "  # Preprocessing: reshape the image data into rows\n",
    "  X_train = np.reshape(X_train, (X_train.shape[0], -1))\n",
    "  X_val = np.reshape(X_val, (X_val.shape[0], -1))\n",
    "  X_test = np.reshape(X_test, (X_test.shape[0], -1))\n",
    "  X_dev = np.reshape(X_dev, (X_dev.shape[0], -1))\n",
    "  \n",
    "  # Normalize the data: subtract the mean image\n",
    "  mean_image = np.mean(X_train, axis = 0)\n",
    "  X_train -= mean_image\n",
    "  X_val -= mean_image\n",
    "  X_test -= mean_image\n",
    "  X_dev -= mean_image\n",
    "  \n",
    "  # add bias dimension and transform into columns\n",
    "  X_train = np.hstack([X_train, np.ones((X_train.shape[0], 1))])\n",
    "  X_val = np.hstack([X_val, np.ones((X_val.shape[0], 1))])\n",
    "  X_test = np.hstack([X_test, np.ones((X_test.shape[0], 1))])\n",
    "  X_dev = np.hstack([X_dev, np.ones((X_dev.shape[0], 1))])\n",
    "  \n",
    "  return X_train, y_train, X_val, y_val, X_test, y_test, X_dev, y_dev\n",
    "\n",
    "\n",
    "# Invoke the above function to get our data.\n",
    "X_train, y_train, X_val, y_val, X_test, y_test, X_dev, y_dev = get_CIFAR10_data()\n",
    "print ('Train data shape: ', X_train.shape)\n",
    "print ('Train labels shape: ', y_train.shape)\n",
    "print ('Validation data shape: ', X_val.shape)\n",
    "print ('Validation labels shape: ', y_val.shape)\n",
    "print ('Test data shape: ', X_test.shape)\n",
    "print ('Test labels shape: ', y_test.shape)\n",
    "print ('dev data shape: ', X_dev.shape)\n",
    "print ('dev labels shape: ', y_dev.shape)"
   ]
  },
  {
   "cell_type": "markdown",
   "metadata": {},
   "source": [
    "## Softmax Classifier\n",
    "\n",
    "Your code for this section will all be written inside **cs231n/classifiers/softmax.py**. \n"
   ]
  },
  {
   "cell_type": "code",
   "execution_count": 14,
   "metadata": {},
   "outputs": [
    {
     "name": "stdout",
     "output_type": "stream",
     "text": [
      "loss: 2.405885\n",
      "sanity check: 2.302585\n"
     ]
    }
   ],
   "source": [
    "# First implement the naive softmax loss function with nested loops.\n",
    "# Open the file cs231n/classifiers/softmax.py and implement the\n",
    "# softmax_loss_naive function.\n",
    "\n",
    "from cs231n.classifiers.softmax import softmax_loss_naive, softmax_loss_vectorized\n",
    "import time\n",
    "\n",
    "# Generate a random softmax weight matrix and use it to compute the loss.\n",
    "W = np.random.randn(3073, 10) * 0.0001\n",
    "loss, grad = softmax_loss_naive(W, X_dev, y_dev, 0.0)\n",
    "\n",
    "# As a rough sanity check, our loss should be something close to -log(0.1).\n",
    "print ('loss: %f' % loss)\n",
    "print ('sanity check: %f' % (-np.log(0.1)))"
   ]
  },
  {
   "cell_type": "markdown",
   "metadata": {},
   "source": [
    "## Inline Question 1:\n",
    "Why do we expect our loss to be close to -log(0.1)? Explain briefly.**\n",
    "\n",
    "**Your answer:** *总类别数是10类，所以随机的正确率是0.1，故loss为-log0.1*\n"
   ]
  },
  {
   "cell_type": "code",
   "execution_count": 15,
   "metadata": {},
   "outputs": [
    {
     "name": "stdout",
     "output_type": "stream",
     "text": [
      "numerical: -1.231212 analytic: -1.231212, relative error: 3.220147e-08\n",
      "numerical: 1.248442 analytic: 1.248442, relative error: 1.947654e-08\n",
      "numerical: -1.564003 analytic: -1.564003, relative error: 5.073909e-09\n",
      "numerical: -1.232632 analytic: -1.232632, relative error: 3.636680e-08\n",
      "numerical: -0.644069 analytic: -0.644069, relative error: 3.995892e-08\n",
      "numerical: -0.856117 analytic: -0.856117, relative error: 6.899150e-08\n",
      "numerical: 0.425493 analytic: 0.425493, relative error: 2.260685e-08\n",
      "numerical: 0.560246 analytic: 0.560246, relative error: 2.528073e-08\n",
      "numerical: 0.937772 analytic: 0.937772, relative error: 1.916723e-08\n",
      "numerical: 1.021200 analytic: 1.021200, relative error: 3.469248e-08\n",
      "numerical: -1.897874 analytic: -1.897874, relative error: 7.498831e-09\n",
      "numerical: 0.321035 analytic: 0.321035, relative error: 7.154023e-08\n",
      "numerical: 2.318708 analytic: 2.318708, relative error: 1.761835e-08\n",
      "numerical: 1.521399 analytic: 1.521398, relative error: 3.139582e-08\n",
      "numerical: -1.283361 analytic: -1.283362, relative error: 3.164602e-08\n",
      "numerical: -0.225531 analytic: -0.225531, relative error: 2.153860e-07\n",
      "numerical: -1.613282 analytic: -1.613282, relative error: 1.642841e-08\n",
      "numerical: 0.497073 analytic: 0.497073, relative error: 8.610737e-08\n",
      "numerical: -0.986213 analytic: -0.986213, relative error: 5.309985e-08\n",
      "numerical: 2.056624 analytic: 2.056624, relative error: 3.682490e-09\n"
     ]
    }
   ],
   "source": [
    "# Complete the implementation of softmax_loss_naive and implement a (naive)\n",
    "# version of the gradient that uses nested loops.\n",
    "# loss, grad = softmax_loss_naive(W, X_dev, y_dev, 0.0)\n",
    "loss, grad = softmax_loss_vectorized(W, X_dev, y_dev, 0.0)\n",
    "# As we did for the SVM, use numeric gradient checking as a debugging tool.\n",
    "# The numeric gradient should be close to the analytic gradient.\n",
    "from cs231n.gradient_check import grad_check_sparse\n",
    "# f = lambda w: softmax_loss_naive(w, X_dev, y_dev, 0.0)[0]\n",
    "f = lambda w: softmax_loss_vectorized(w, X_dev, y_dev, 0.0)[0]\n",
    "grad_numerical = grad_check_sparse(f, W, grad, 10)\n",
    "\n",
    "# similar to SVM case, do another gradient check with regularization\n",
    "# loss, grad = softmax_loss_naive(W, X_dev, y_dev, 1e2)\n",
    "# f = lambda w: softmax_loss_naive(w, X_dev, y_dev, 1e2)[0]\n",
    "loss, grad = softmax_loss_vectorized(W, X_dev, y_dev, 1e2)\n",
    "f = lambda w: softmax_loss_vectorized(w, X_dev, y_dev, 1e2)[0]\n",
    "grad_numerical = grad_check_sparse(f, W, grad, 10)"
   ]
  },
  {
   "cell_type": "code",
   "execution_count": 16,
   "metadata": {},
   "outputs": [
    {
     "name": "stdout",
     "output_type": "stream",
     "text": [
      "naive loss: 2.405885e+00 computed in 0.041109s\n",
      "vectorized loss: 2.405885e+00 computed in 0.005015s\n",
      "Loss difference: 0.000000\n",
      "Gradient difference: 0.000000\n"
     ]
    }
   ],
   "source": [
    "# Now that we have a naive implementation of the softmax loss function and its gradient,\n",
    "# implement a vectorized version in softmax_loss_vectorized.\n",
    "# The two versions should compute the same results, but the vectorized version should be\n",
    "# much faster.\n",
    "tic = time.time()\n",
    "loss_naive, grad_naive = softmax_loss_naive(W, X_dev, y_dev, 0.00001)\n",
    "toc = time.time()\n",
    "print ('naive loss: %e computed in %fs' % (loss_naive, toc - tic))\n",
    "\n",
    "# from cs231n.classifiers.softmax import softmax_loss_vectorized\n",
    "tic = time.time()\n",
    "loss_vectorized, grad_vectorized = softmax_loss_vectorized(W, X_dev, y_dev, 0.00001)\n",
    "toc = time.time()\n",
    "print ('vectorized loss: %e computed in %fs' % (loss_vectorized, toc - tic))\n",
    "\n",
    "# As we did for the SVM, we use the Frobenius norm to compare the two versions\n",
    "# of the gradient.\n",
    "grad_difference = np.linalg.norm(grad_naive - grad_vectorized, ord='fro')\n",
    "print ('Loss difference: %f' % np.abs(loss_naive - loss_vectorized))\n",
    "print ('Gradient difference: %f' % grad_difference)"
   ]
  },
  {
   "cell_type": "code",
   "execution_count": 20,
   "metadata": {
    "scrolled": false
   },
   "outputs": [
    {
     "name": "stdout",
     "output_type": "stream",
     "text": [
      "lr 1.000000e-07 reg 1.000000e+05 train accuracy: 0.144041 val accuracy: 0.130000\n",
      "lr 1.000000e-07 reg 2.000000e+05 train accuracy: 0.168163 val accuracy: 0.156000\n",
      "lr 1.000000e-07 reg 3.000000e+05 train accuracy: 0.184653 val accuracy: 0.178000\n",
      "lr 1.000000e-07 reg 4.000000e+05 train accuracy: 0.197102 val accuracy: 0.198000\n",
      "lr 1.000000e-07 reg 5.000000e+05 train accuracy: 0.206061 val accuracy: 0.194000\n",
      "lr 1.000000e-07 reg 6.000000e+05 train accuracy: 0.213653 val accuracy: 0.194000\n",
      "lr 1.000000e-07 reg 7.000000e+05 train accuracy: 0.221020 val accuracy: 0.202000\n",
      "lr 1.000000e-07 reg 8.000000e+05 train accuracy: 0.226163 val accuracy: 0.210000\n",
      "lr 1.000000e-07 reg 9.000000e+05 train accuracy: 0.230020 val accuracy: 0.214000\n",
      "lr 2.000000e-07 reg 1.000000e+05 train accuracy: 0.238327 val accuracy: 0.234000\n",
      "lr 2.000000e-07 reg 2.000000e+05 train accuracy: 0.244490 val accuracy: 0.238000\n",
      "lr 2.000000e-07 reg 3.000000e+05 train accuracy: 0.251633 val accuracy: 0.236000\n",
      "lr 2.000000e-07 reg 4.000000e+05 train accuracy: 0.257653 val accuracy: 0.244000\n",
      "lr 2.000000e-07 reg 5.000000e+05 train accuracy: 0.261959 val accuracy: 0.236000\n",
      "lr 2.000000e-07 reg 6.000000e+05 train accuracy: 0.265673 val accuracy: 0.244000\n",
      "lr 2.000000e-07 reg 7.000000e+05 train accuracy: 0.269531 val accuracy: 0.240000\n",
      "lr 2.000000e-07 reg 8.000000e+05 train accuracy: 0.273408 val accuracy: 0.244000\n",
      "lr 2.000000e-07 reg 9.000000e+05 train accuracy: 0.277816 val accuracy: 0.246000\n",
      "lr 3.000000e-07 reg 1.000000e+05 train accuracy: 0.281163 val accuracy: 0.246000\n",
      "lr 3.000000e-07 reg 2.000000e+05 train accuracy: 0.285041 val accuracy: 0.236000\n",
      "lr 3.000000e-07 reg 3.000000e+05 train accuracy: 0.288327 val accuracy: 0.252000\n",
      "lr 3.000000e-07 reg 4.000000e+05 train accuracy: 0.290041 val accuracy: 0.244000\n",
      "lr 3.000000e-07 reg 5.000000e+05 train accuracy: 0.294714 val accuracy: 0.250000\n",
      "lr 3.000000e-07 reg 6.000000e+05 train accuracy: 0.298735 val accuracy: 0.252000\n",
      "lr 3.000000e-07 reg 7.000000e+05 train accuracy: 0.300429 val accuracy: 0.258000\n",
      "lr 3.000000e-07 reg 8.000000e+05 train accuracy: 0.303245 val accuracy: 0.252000\n",
      "lr 3.000000e-07 reg 9.000000e+05 train accuracy: 0.302878 val accuracy: 0.264000\n",
      "lr 4.000000e-07 reg 1.000000e+05 train accuracy: 0.308939 val accuracy: 0.266000\n",
      "lr 4.000000e-07 reg 2.000000e+05 train accuracy: 0.310510 val accuracy: 0.266000\n",
      "lr 4.000000e-07 reg 3.000000e+05 train accuracy: 0.312980 val accuracy: 0.258000\n",
      "lr 4.000000e-07 reg 4.000000e+05 train accuracy: 0.314469 val accuracy: 0.256000\n",
      "lr 4.000000e-07 reg 5.000000e+05 train accuracy: 0.321204 val accuracy: 0.264000\n",
      "lr 4.000000e-07 reg 6.000000e+05 train accuracy: 0.320837 val accuracy: 0.274000\n",
      "lr 4.000000e-07 reg 7.000000e+05 train accuracy: 0.324571 val accuracy: 0.268000\n",
      "lr 4.000000e-07 reg 8.000000e+05 train accuracy: 0.324755 val accuracy: 0.266000\n",
      "lr 4.000000e-07 reg 9.000000e+05 train accuracy: 0.327061 val accuracy: 0.276000\n",
      "lr 5.000000e-07 reg 1.000000e+05 train accuracy: 0.329102 val accuracy: 0.274000\n",
      "lr 5.000000e-07 reg 2.000000e+05 train accuracy: 0.330980 val accuracy: 0.276000\n",
      "lr 5.000000e-07 reg 3.000000e+05 train accuracy: 0.333959 val accuracy: 0.276000\n",
      "lr 5.000000e-07 reg 4.000000e+05 train accuracy: 0.334816 val accuracy: 0.278000\n",
      "lr 5.000000e-07 reg 5.000000e+05 train accuracy: 0.336673 val accuracy: 0.288000\n",
      "lr 5.000000e-07 reg 6.000000e+05 train accuracy: 0.336347 val accuracy: 0.274000\n",
      "lr 5.000000e-07 reg 7.000000e+05 train accuracy: 0.342082 val accuracy: 0.294000\n",
      "lr 5.000000e-07 reg 8.000000e+05 train accuracy: 0.341408 val accuracy: 0.284000\n",
      "lr 5.000000e-07 reg 9.000000e+05 train accuracy: 0.343367 val accuracy: 0.288000\n",
      "lr 6.000000e-07 reg 1.000000e+05 train accuracy: 0.346796 val accuracy: 0.298000\n",
      "lr 6.000000e-07 reg 2.000000e+05 train accuracy: 0.346531 val accuracy: 0.296000\n",
      "lr 6.000000e-07 reg 3.000000e+05 train accuracy: 0.348429 val accuracy: 0.300000\n",
      "lr 6.000000e-07 reg 4.000000e+05 train accuracy: 0.347878 val accuracy: 0.288000\n",
      "lr 6.000000e-07 reg 5.000000e+05 train accuracy: 0.351531 val accuracy: 0.310000\n",
      "lr 6.000000e-07 reg 6.000000e+05 train accuracy: 0.354796 val accuracy: 0.288000\n",
      "lr 6.000000e-07 reg 7.000000e+05 train accuracy: 0.356408 val accuracy: 0.304000\n",
      "lr 6.000000e-07 reg 8.000000e+05 train accuracy: 0.354204 val accuracy: 0.298000\n",
      "lr 6.000000e-07 reg 9.000000e+05 train accuracy: 0.358898 val accuracy: 0.304000\n",
      "lr 7.000000e-07 reg 1.000000e+05 train accuracy: 0.360898 val accuracy: 0.298000\n",
      "lr 7.000000e-07 reg 2.000000e+05 train accuracy: 0.360898 val accuracy: 0.310000\n",
      "lr 7.000000e-07 reg 3.000000e+05 train accuracy: 0.363837 val accuracy: 0.306000\n",
      "lr 7.000000e-07 reg 4.000000e+05 train accuracy: 0.364551 val accuracy: 0.326000\n",
      "lr 7.000000e-07 reg 5.000000e+05 train accuracy: 0.365184 val accuracy: 0.310000\n",
      "lr 7.000000e-07 reg 6.000000e+05 train accuracy: 0.367367 val accuracy: 0.316000\n",
      "lr 7.000000e-07 reg 7.000000e+05 train accuracy: 0.368469 val accuracy: 0.310000\n",
      "lr 7.000000e-07 reg 8.000000e+05 train accuracy: 0.370980 val accuracy: 0.318000\n",
      "lr 7.000000e-07 reg 9.000000e+05 train accuracy: 0.371347 val accuracy: 0.330000\n",
      "lr 8.000000e-07 reg 1.000000e+05 train accuracy: 0.371939 val accuracy: 0.310000\n",
      "lr 8.000000e-07 reg 2.000000e+05 train accuracy: 0.372102 val accuracy: 0.330000\n",
      "lr 8.000000e-07 reg 3.000000e+05 train accuracy: 0.372245 val accuracy: 0.310000\n",
      "lr 8.000000e-07 reg 4.000000e+05 train accuracy: 0.374735 val accuracy: 0.312000\n",
      "lr 8.000000e-07 reg 5.000000e+05 train accuracy: 0.376020 val accuracy: 0.324000\n",
      "lr 8.000000e-07 reg 6.000000e+05 train accuracy: 0.377837 val accuracy: 0.326000\n",
      "lr 8.000000e-07 reg 7.000000e+05 train accuracy: 0.378061 val accuracy: 0.330000\n",
      "lr 8.000000e-07 reg 8.000000e+05 train accuracy: 0.378286 val accuracy: 0.334000\n",
      "lr 8.000000e-07 reg 9.000000e+05 train accuracy: 0.381286 val accuracy: 0.332000\n",
      "lr 9.000000e-07 reg 1.000000e+05 train accuracy: 0.382612 val accuracy: 0.336000\n",
      "lr 9.000000e-07 reg 2.000000e+05 train accuracy: 0.386408 val accuracy: 0.340000\n",
      "lr 9.000000e-07 reg 3.000000e+05 train accuracy: 0.381898 val accuracy: 0.346000\n",
      "lr 9.000000e-07 reg 4.000000e+05 train accuracy: 0.385082 val accuracy: 0.342000\n",
      "lr 9.000000e-07 reg 5.000000e+05 train accuracy: 0.388612 val accuracy: 0.340000\n",
      "lr 9.000000e-07 reg 6.000000e+05 train accuracy: 0.389388 val accuracy: 0.336000\n",
      "lr 9.000000e-07 reg 7.000000e+05 train accuracy: 0.386592 val accuracy: 0.354000\n",
      "lr 9.000000e-07 reg 8.000000e+05 train accuracy: 0.387020 val accuracy: 0.336000\n",
      "lr 9.000000e-07 reg 9.000000e+05 train accuracy: 0.391020 val accuracy: 0.362000\n",
      "best validation accuracy achieved during cross-validation: 0.362000\n"
     ]
    }
   ],
   "source": [
    "# Use the validation set to tune hyperparameters (regularization strength and\n",
    "# learning rate). You should experiment with different ranges for the learning\n",
    "# rates and regularization strengths; if you are careful you should be able to\n",
    "# get a classification accuracy of over 0.35 on the validation set.\n",
    "from cs231n.classifiers import Softmax\n",
    "results = {}\n",
    "best_val = -1\n",
    "best_softmax = None\n",
    "learning_rates = np.arange(1, 10) * 1e-7\n",
    "regularization_strengths = np.arange(1, 10) * 1e5\n",
    "\n",
    "################################################################################\n",
    "# TODO:                                                                        #\n",
    "# Use the validation set to set the learning rate and regularization strength. #\n",
    "# This should be identical to the validation that you did for the SVM; save    #\n",
    "# the best trained softmax classifer in best_softmax.                          #\n",
    "################################################################################\n",
    "sm = Softmax()\n",
    "for lr in learning_rates:\n",
    "    for reg in regularization_strengths:\n",
    "        _ = sm.train(X_train, y_train, lr, 1/reg)\n",
    "        train_acc = np.mean(sm.predict(X_train) == y_train)\n",
    "        dev_acc = np.mean(sm.predict(X_dev) == y_dev)\n",
    "        results[(lr, reg)] = train_acc, dev_acc\n",
    "        if dev_acc > best_val:\n",
    "            best_val = dev_acc\n",
    "            best_softmax = sm\n",
    "################################################################################\n",
    "#                              END OF YOUR CODE                                #\n",
    "################################################################################\n",
    "    \n",
    "# Print out results.\n",
    "for lr, reg in sorted(results):\n",
    "    train_accuracy, val_accuracy = results[(lr, reg)]\n",
    "    print ('lr %e reg %e train accuracy: %f val accuracy: %f' % (\n",
    "                lr, reg, train_accuracy, val_accuracy))\n",
    "    \n",
    "print ('best validation accuracy achieved during cross-validation: %f' % best_val)"
   ]
  },
  {
   "cell_type": "code",
   "execution_count": 18,
   "metadata": {},
   "outputs": [
    {
     "name": "stdout",
     "output_type": "stream",
     "text": [
      "softmax on raw pixels final test set accuracy: 0.252000\n"
     ]
    }
   ],
   "source": [
    "# evaluate on test set\n",
    "# Evaluate the best softmax on test set\n",
    "y_test_pred = best_softmax.predict(X_test)\n",
    "test_accuracy = np.mean(y_test == y_test_pred)\n",
    "print ('softmax on raw pixels final test set accuracy: %f' % (test_accuracy, ))"
   ]
  },
  {
   "cell_type": "code",
   "execution_count": 19,
   "metadata": {},
   "outputs": [
    {
     "data": {
      "image/png": "[encoded data removed]",
      "text/plain": [
       "<Figure size 720x576 with 10 Axes>"
      ]
     },
     "metadata": {},
     "output_type": "display_data"
    }
   ],
   "source": [
    "# Visualize the learned weights for each class\n",
    "w = best_softmax.W[:-1,:] # strip out the bias\n",
    "w = w.reshape(32, 32, 3, 10)\n",
    "\n",
    "w_min, w_max = np.min(w), np.max(w)\n",
    "\n",
    "classes = ['plane', 'car', 'bird', 'cat', 'deer', 'dog', 'frog', 'horse', 'ship', 'truck']\n",
    "for i in range(10):\n",
    "  plt.subplot(2, 5, i + 1)\n",
    "  \n",
    "  # Rescale the weights to be between 0 and 255\n",
    "  wimg = 255.0 * (w[:, :, :, i].squeeze() - w_min) / (w_max - w_min)\n",
    "  plt.imshow(wimg.astype('uint8'))\n",
    "  plt.axis('off')\n",
    "  plt.title(classes[i])"
   ]
  },
  {
   "cell_type": "code",
   "execution_count": null,
   "metadata": {},
   "outputs": [],
   "source": []
  }
 ],
 "metadata": {
  "kernelspec": {
   "display_name": "Python 3",
   "language": "python",
   "name": "python3"
  },
  "language_info": {
   "codemirror_mode": {
    "name": "ipython",
    "version": 3
   },
   "file_extension": ".py",
   "mimetype": "text/x-python",
   "name": "python",
   "nbconvert_exporter": "python",
   "pygments_lexer": "ipython3",
   "version": "3.6.5"
  }
 },
 "nbformat": 4,
 "nbformat_minor": 1
}
